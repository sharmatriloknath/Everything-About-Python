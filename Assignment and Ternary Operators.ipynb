{
 "cells": [
  {
   "cell_type": "markdown",
   "id": "e0793581",
   "metadata": {},
   "source": [
    "## Assignment Operators\n",
    "- It is used to assign the value.\n",
    "`=`\n",
    "- You can use it with other operator to make compound assignment operators.\n",
    "- Possible Compound assignment Operators in Python.\n",
    "\n",
    "```python\n",
    "+=\n",
    "-=\n",
    "*=\n",
    "/=\n",
    "//=\n",
    "%=\n",
    "&=\n",
    "|=\n",
    "^=\n",
    ">>=\n",
    "<<=\n",
    "```"
   ]
  },
  {
   "cell_type": "code",
   "execution_count": 7,
   "id": "2ba40cb4",
   "metadata": {},
   "outputs": [
    {
     "data": {
      "text/plain": [
       "10"
      ]
     },
     "execution_count": 7,
     "metadata": {},
     "output_type": "execute_result"
    }
   ],
   "source": [
    "# Examples\n",
    "x = 10\n",
    "x"
   ]
  },
  {
   "cell_type": "code",
   "execution_count": 8,
   "id": "40f542bd",
   "metadata": {},
   "outputs": [],
   "source": [
    "x+=10 # x = x+10"
   ]
  },
  {
   "cell_type": "code",
   "execution_count": 9,
   "id": "284c3f7e",
   "metadata": {},
   "outputs": [
    {
     "data": {
      "text/plain": [
       "20"
      ]
     },
     "execution_count": 9,
     "metadata": {},
     "output_type": "execute_result"
    }
   ],
   "source": [
    "x"
   ]
  },
  {
   "cell_type": "code",
   "execution_count": 10,
   "id": "9e83ca49",
   "metadata": {},
   "outputs": [],
   "source": [
    "x/=2 # x = x/2  ===>  20/2 ==> 10.0"
   ]
  },
  {
   "cell_type": "code",
   "execution_count": 11,
   "id": "4892d696",
   "metadata": {},
   "outputs": [
    {
     "data": {
      "text/plain": [
       "10.0"
      ]
     },
     "execution_count": 11,
     "metadata": {},
     "output_type": "execute_result"
    }
   ],
   "source": [
    "x"
   ]
  },
  {
   "cell_type": "markdown",
   "id": "c9438686",
   "metadata": {},
   "source": [
    "## Ternary Operators\n",
    "- The most useable operator in python.\n",
    "\n",
    "**syntax**\n",
    "\n",
    "```python\n",
    "First if condition else Second\n",
    "\n",
    "#If condition is True return first else Second\n",
    "```"
   ]
  },
  {
   "cell_type": "code",
   "execution_count": 13,
   "id": "660e643a",
   "metadata": {},
   "outputs": [
    {
     "data": {
      "text/plain": [
       "'evening'"
      ]
     },
     "execution_count": 13,
     "metadata": {},
     "output_type": "execute_result"
    }
   ],
   "source": [
    "# Examples\n",
    "greet = 'afternoon'\n",
    "\n",
    "greet if greet == \"morning\" else 'evening'"
   ]
  },
  {
   "cell_type": "code",
   "execution_count": null,
   "id": "0793202c",
   "metadata": {},
   "outputs": [],
   "source": []
  }
 ],
 "metadata": {
  "kernelspec": {
   "display_name": "Python 3 (ipykernel)",
   "language": "python",
   "name": "python3"
  },
  "language_info": {
   "codemirror_mode": {
    "name": "ipython",
    "version": 3
   },
   "file_extension": ".py",
   "mimetype": "text/x-python",
   "name": "python",
   "nbconvert_exporter": "python",
   "pygments_lexer": "ipython3",
   "version": "3.9.6"
  }
 },
 "nbformat": 4,
 "nbformat_minor": 5
}
