{
 "cells": [
  {
   "cell_type": "markdown",
   "id": "e0793581",
   "metadata": {},
   "source": [
    "## Assignment Operators\n",
    "- It is used to assign the value.\n",
    "`=`\n",
    "- You can use it with other operator to make compound assignment operators.\n",
    "- Possible Compound assignment Operators in Python.\n",
    "\n",
    "```python\n",
    "+=\n",
    "-=\n",
    "*=\n",
    "/=\n",
    "//=\n",
    "%=\n",
    "&=\n",
    "|=\n",
    "^=\n",
    ">>=\n",
    "<<=\n",
    "```"
   ]
  },
  {
   "cell_type": "code",
   "execution_count": null,
   "id": "2ba40cb4",
   "metadata": {},
   "outputs": [],
   "source": [
    "# Examples"
   ]
  },
  {
   "cell_type": "markdown",
   "id": "c9438686",
   "metadata": {},
   "source": [
    "## Ternary Operators\n",
    "- The most useable operator in python.\n",
    "\n",
    "**syntax**\n",
    "\n",
    "```python\n",
    "First if condition else Second\n",
    "\n",
    "#If condition is True return first else Second\n",
    "```"
   ]
  },
  {
   "cell_type": "code",
   "execution_count": null,
   "id": "660e643a",
   "metadata": {},
   "outputs": [],
   "source": [
    "# Examples"
   ]
  }
 ],
 "metadata": {
  "kernelspec": {
   "display_name": "Python 3 (ipykernel)",
   "language": "python",
   "name": "python3"
  },
  "language_info": {
   "codemirror_mode": {
    "name": "ipython",
    "version": 3
   },
   "file_extension": ".py",
   "mimetype": "text/x-python",
   "name": "python",
   "nbconvert_exporter": "python",
   "pygments_lexer": "ipython3",
   "version": "3.9.6"
  }
 },
 "nbformat": 4,
 "nbformat_minor": 5
}
