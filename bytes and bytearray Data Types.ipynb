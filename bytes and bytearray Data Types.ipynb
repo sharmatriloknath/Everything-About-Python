{
 "cells": [
  {
   "cell_type": "markdown",
   "id": "3480c6c5",
   "metadata": {},
   "source": [
    "# <code>bytes</code> Data Type\n",
    "- It is immutable data type.\n",
    "- it is similar to array but support only 0-256 values.\n",
    "- You wont create byte with the value that is greater than 256.\n",
    "- You can not make changes once you create the byte because it is unchangeable.\n",
    "- you can create with the help of <code>bytes()</code>"
   ]
  },
  {
   "cell_type": "code",
   "execution_count": null,
   "id": "4846a0c9",
   "metadata": {},
   "outputs": [],
   "source": [
    "# Examples"
   ]
  },
  {
   "cell_type": "code",
   "execution_count": 1,
   "id": "ba57fa29",
   "metadata": {},
   "outputs": [],
   "source": [
    "l = [1,2,3,4,5]"
   ]
  },
  {
   "cell_type": "code",
   "execution_count": 2,
   "id": "3d45c8c9",
   "metadata": {},
   "outputs": [
    {
     "data": {
      "text/plain": [
       "[1, 2, 3, 4, 5]"
      ]
     },
     "execution_count": 2,
     "metadata": {},
     "output_type": "execute_result"
    }
   ],
   "source": [
    "l"
   ]
  },
  {
   "cell_type": "code",
   "execution_count": 3,
   "id": "1323c365",
   "metadata": {},
   "outputs": [],
   "source": [
    "byte = bytes(l)"
   ]
  },
  {
   "cell_type": "code",
   "execution_count": 5,
   "id": "e2f0f3f3",
   "metadata": {},
   "outputs": [
    {
     "name": "stdout",
     "output_type": "stream",
     "text": [
      "1\n",
      "2\n",
      "3\n",
      "4\n",
      "5\n"
     ]
    }
   ],
   "source": [
    "for i in byte:\n",
    "    print(i)"
   ]
  },
  {
   "cell_type": "code",
   "execution_count": 8,
   "id": "1cafc1aa",
   "metadata": {},
   "outputs": [],
   "source": [
    "list_ = [2,3,4,255]\n",
    "byte = bytes(list_)"
   ]
  },
  {
   "cell_type": "code",
   "execution_count": 10,
   "id": "1c262c8d",
   "metadata": {},
   "outputs": [
    {
     "data": {
      "text/plain": [
       "2"
      ]
     },
     "execution_count": 10,
     "metadata": {},
     "output_type": "execute_result"
    }
   ],
   "source": [
    "byte[0]"
   ]
  },
  {
   "cell_type": "code",
   "execution_count": 11,
   "id": "0ae7d7c6",
   "metadata": {},
   "outputs": [
    {
     "ename": "TypeError",
     "evalue": "'bytes' object does not support item assignment",
     "output_type": "error",
     "traceback": [
      "\u001b[1;31m---------------------------------------------------------------------------\u001b[0m",
      "\u001b[1;31mTypeError\u001b[0m                                 Traceback (most recent call last)",
      "Input \u001b[1;32mIn [11]\u001b[0m, in \u001b[0;36m<module>\u001b[1;34m\u001b[0m\n\u001b[1;32m----> 1\u001b[0m byte[\u001b[38;5;241m0\u001b[39m]\u001b[38;5;241m=\u001b[39m\u001b[38;5;241m5\u001b[39m\n",
      "\u001b[1;31mTypeError\u001b[0m: 'bytes' object does not support item assignment"
     ]
    }
   ],
   "source": [
    "byte[0]=5"
   ]
  },
  {
   "cell_type": "markdown",
   "id": "06cccd50",
   "metadata": {},
   "source": [
    "# <code>bytearray</code> Data Type\n",
    "- It is exactly similar to <code> bytes</code> except you can make changes.\n",
    "- It is mutebale\n",
    "- You can create bytearray with <code>bytearray()</code>."
   ]
  },
  {
   "cell_type": "code",
   "execution_count": 12,
   "id": "53816c7f",
   "metadata": {},
   "outputs": [
    {
     "data": {
      "text/plain": [
       "[2, 3, 4, 255]"
      ]
     },
     "execution_count": 12,
     "metadata": {},
     "output_type": "execute_result"
    }
   ],
   "source": [
    "# Examples\n",
    "list_"
   ]
  },
  {
   "cell_type": "code",
   "execution_count": 13,
   "id": "9b798380",
   "metadata": {},
   "outputs": [],
   "source": [
    "bytearrays = bytearray(list_)"
   ]
  },
  {
   "cell_type": "code",
   "execution_count": 15,
   "id": "f579f7e2",
   "metadata": {},
   "outputs": [
    {
     "name": "stdout",
     "output_type": "stream",
     "text": [
      "2\n",
      "3\n",
      "4\n",
      "255\n"
     ]
    }
   ],
   "source": [
    "for i in bytearrays:\n",
    "    print(i)"
   ]
  },
  {
   "cell_type": "code",
   "execution_count": 16,
   "id": "6501a5d4",
   "metadata": {},
   "outputs": [
    {
     "data": {
      "text/plain": [
       "2"
      ]
     },
     "execution_count": 16,
     "metadata": {},
     "output_type": "execute_result"
    }
   ],
   "source": [
    "bytearrays[0]"
   ]
  },
  {
   "cell_type": "code",
   "execution_count": 17,
   "id": "6d1d0428",
   "metadata": {},
   "outputs": [],
   "source": [
    "bytearrays[0] = 5"
   ]
  },
  {
   "cell_type": "code",
   "execution_count": 18,
   "id": "c4ef4f36",
   "metadata": {},
   "outputs": [
    {
     "data": {
      "text/plain": [
       "5"
      ]
     },
     "execution_count": 18,
     "metadata": {},
     "output_type": "execute_result"
    }
   ],
   "source": [
    "bytearrays[0]"
   ]
  },
  {
   "cell_type": "code",
   "execution_count": null,
   "id": "39aa2225",
   "metadata": {},
   "outputs": [],
   "source": [
    "#List\n",
    "#Tuple\n",
    "#Set\n",
    "#Dict"
   ]
  }
 ],
 "metadata": {
  "kernelspec": {
   "display_name": "Python 3 (ipykernel)",
   "language": "python",
   "name": "python3"
  },
  "language_info": {
   "codemirror_mode": {
    "name": "ipython",
    "version": 3
   },
   "file_extension": ".py",
   "mimetype": "text/x-python",
   "name": "python",
   "nbconvert_exporter": "python",
   "pygments_lexer": "ipython3",
   "version": "3.9.6"
  }
 },
 "nbformat": 4,
 "nbformat_minor": 5
}
