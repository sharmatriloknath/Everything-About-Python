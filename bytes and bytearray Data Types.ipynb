{
 "cells": [
  {
   "cell_type": "markdown",
   "id": "3480c6c5",
   "metadata": {},
   "source": [
    "# <code>bytes</code> Data Type\n",
    "- It is immutable data type.\n",
    "- it is similar to array but support only 0-256 values.\n",
    "- You wont create byte with the value that is greater than 256.\n",
    "- You can not make changes once you create the byte because it is unchangeable.\n",
    "- you can create with the help of <code>bytes()</code>"
   ]
  },
  {
   "cell_type": "code",
   "execution_count": null,
   "id": "4846a0c9",
   "metadata": {},
   "outputs": [],
   "source": [
    "# Examples"
   ]
  },
  {
   "cell_type": "markdown",
   "id": "06cccd50",
   "metadata": {},
   "source": [
    "# <code>bytearray</code> Data Type\n",
    "- It is exactly similar to <code> bytes</code> except you can make changes.\n",
    "- It is mutebale\n",
    "- You can create bytearray with <code>bytearray()</code>."
   ]
  },
  {
   "cell_type": "code",
   "execution_count": null,
   "id": "53816c7f",
   "metadata": {},
   "outputs": [],
   "source": [
    "# Examples"
   ]
  },
  {
   "cell_type": "code",
   "execution_count": null,
   "id": "39aa2225",
   "metadata": {},
   "outputs": [],
   "source": []
  }
 ],
 "metadata": {
  "kernelspec": {
   "display_name": "Python 3 (ipykernel)",
   "language": "python",
   "name": "python3"
  },
  "language_info": {
   "codemirror_mode": {
    "name": "ipython",
    "version": 3
   },
   "file_extension": ".py",
   "mimetype": "text/x-python",
   "name": "python",
   "nbconvert_exporter": "python",
   "pygments_lexer": "ipython3",
   "version": "3.10.5"
  }
 },
 "nbformat": 4,
 "nbformat_minor": 5
}
