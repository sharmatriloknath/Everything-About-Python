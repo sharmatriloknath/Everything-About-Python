{
 "cells": [
  {
   "cell_type": "markdown",
   "id": "656ce34a",
   "metadata": {},
   "source": [
    "# Immutability\n",
    "- Immutable mean unchangeable.\n",
    "- All Fundamental Data Types of python are immutable.\n",
    "\n",
    "- All Fundamental Data types are immutable. i.e once we creates an object,we cannot perform any changes in that object. If we are trying to change then with those changes a new object will be created. This non-chageable behaviour is called immutability.\n",
    "\n",
    "\n",
    "- In Python if a new object is required, then PVM wont create object immediately. First it will check is any object available with the required content or not. If available then existing object will be reused. If it is not available then only a new object will be created.\n",
    "\n",
    "- Memory utilization and performance.\n",
    "\n",
    "- But the problem in this approach is,several references pointing to the same object,by using one reference if we are allowed to change the content in the existing object then the remaining references will be effected. To prevent this immutability concept is required.According to this once creates an object we are not allowed to change content. If we are trying to change with those changes a new object will be created."
   ]
  },
  {
   "cell_type": "code",
   "execution_count": null,
   "id": "3e8c5846",
   "metadata": {},
   "outputs": [],
   "source": [
    "# Examples."
   ]
  }
 ],
 "metadata": {
  "kernelspec": {
   "display_name": "Python 3 (ipykernel)",
   "language": "python",
   "name": "python3"
  },
  "language_info": {
   "codemirror_mode": {
    "name": "ipython",
    "version": 3
   },
   "file_extension": ".py",
   "mimetype": "text/x-python",
   "name": "python",
   "nbconvert_exporter": "python",
   "pygments_lexer": "ipython3",
   "version": "3.10.5"
  }
 },
 "nbformat": 4,
 "nbformat_minor": 5
}
