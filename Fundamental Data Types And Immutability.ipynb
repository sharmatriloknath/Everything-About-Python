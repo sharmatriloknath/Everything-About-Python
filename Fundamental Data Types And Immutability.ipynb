{
 "cells": [
  {
   "cell_type": "markdown",
   "id": "656ce34a",
   "metadata": {},
   "source": [
    "# Immutability\n",
    "- Immutable mean unchangeable.\n",
    "- All Fundamental Data Types of python are immutable.\n",
    "\n",
    "- All Fundamental Data types are immutable. i.e once we creates an object,we cannot perform any changes in that object. If we are trying to change then with those changes a new object will be created. This non-chageable behaviour is called immutability.\n",
    "\n",
    "\n",
    "- In Python if a new object is required, then PVM wont create object immediately. First it will check is any object available with the required content or not. If available then existing object will be reused. If it is not available then only a new object will be created.\n",
    "\n",
    "- Memory utilization and performance.\n",
    "\n",
    "- But the problem in this approach is,several references pointing to the same object,by using one reference if we are allowed to change the content in the existing object then the remaining references will be effected. To prevent this immutability concept is required.According to this once creates an object we are not allowed to change content. If we are trying to change with those changes a new object will be created."
   ]
  },
  {
   "cell_type": "code",
   "execution_count": 1,
   "id": "3e8c5846",
   "metadata": {},
   "outputs": [],
   "source": [
    "# Examples.\n",
    "name = \"Guido\""
   ]
  },
  {
   "cell_type": "code",
   "execution_count": 2,
   "id": "02403ce7",
   "metadata": {},
   "outputs": [
    {
     "data": {
      "text/plain": [
       "'Guido'"
      ]
     },
     "execution_count": 2,
     "metadata": {},
     "output_type": "execute_result"
    }
   ],
   "source": [
    "name"
   ]
  },
  {
   "cell_type": "code",
   "execution_count": 3,
   "id": "23f4a7a4",
   "metadata": {},
   "outputs": [
    {
     "data": {
      "text/plain": [
       "5"
      ]
     },
     "execution_count": 3,
     "metadata": {},
     "output_type": "execute_result"
    }
   ],
   "source": [
    "len(name)"
   ]
  },
  {
   "cell_type": "code",
   "execution_count": 4,
   "id": "a3e65cda",
   "metadata": {},
   "outputs": [
    {
     "data": {
      "text/plain": [
       "'G'"
      ]
     },
     "execution_count": 4,
     "metadata": {},
     "output_type": "execute_result"
    }
   ],
   "source": [
    "name[0]"
   ]
  },
  {
   "cell_type": "code",
   "execution_count": 5,
   "id": "956de8d1",
   "metadata": {},
   "outputs": [
    {
     "data": {
      "text/plain": [
       "'o'"
      ]
     },
     "execution_count": 5,
     "metadata": {},
     "output_type": "execute_result"
    }
   ],
   "source": [
    "name[4]"
   ]
  },
  {
   "cell_type": "code",
   "execution_count": 6,
   "id": "738c0292",
   "metadata": {},
   "outputs": [
    {
     "ename": "TypeError",
     "evalue": "'str' object does not support item assignment",
     "output_type": "error",
     "traceback": [
      "\u001b[1;31m---------------------------------------------------------------------------\u001b[0m",
      "\u001b[1;31mTypeError\u001b[0m                                 Traceback (most recent call last)",
      "Input \u001b[1;32mIn [6]\u001b[0m, in \u001b[0;36m<module>\u001b[1;34m\u001b[0m\n\u001b[1;32m----> 1\u001b[0m name[\u001b[38;5;241m4\u001b[39m]\u001b[38;5;241m=\u001b[39m\u001b[38;5;124m\"\u001b[39m\u001b[38;5;124mn\u001b[39m\u001b[38;5;124m\"\u001b[39m\n",
      "\u001b[1;31mTypeError\u001b[0m: 'str' object does not support item assignment"
     ]
    }
   ],
   "source": [
    "name[4]=\"n\""
   ]
  },
  {
   "cell_type": "code",
   "execution_count": 7,
   "id": "f6e61477",
   "metadata": {},
   "outputs": [
    {
     "data": {
      "text/plain": [
       "2491810504880"
      ]
     },
     "execution_count": 7,
     "metadata": {},
     "output_type": "execute_result"
    }
   ],
   "source": [
    "id(name)"
   ]
  },
  {
   "cell_type": "code",
   "execution_count": 8,
   "id": "bd6d89f8",
   "metadata": {},
   "outputs": [],
   "source": [
    "name = \"Rossam\""
   ]
  },
  {
   "cell_type": "code",
   "execution_count": 9,
   "id": "94ce8fe0",
   "metadata": {
    "scrolled": true
   },
   "outputs": [
    {
     "data": {
      "text/plain": [
       "2491811022576"
      ]
     },
     "execution_count": 9,
     "metadata": {},
     "output_type": "execute_result"
    }
   ],
   "source": [
    "id(name)"
   ]
  },
  {
   "cell_type": "code",
   "execution_count": 10,
   "id": "b35efd4a",
   "metadata": {},
   "outputs": [
    {
     "data": {
      "text/plain": [
       "True"
      ]
     },
     "execution_count": 10,
     "metadata": {},
     "output_type": "execute_result"
    }
   ],
   "source": [
    "#example\n",
    "first = \"Trilok\"\n",
    "second = \"Trilok\"\n",
    "\n",
    "first is second"
   ]
  },
  {
   "cell_type": "code",
   "execution_count": 11,
   "id": "a28c258b",
   "metadata": {},
   "outputs": [
    {
     "data": {
      "text/plain": [
       "2491839238064"
      ]
     },
     "execution_count": 11,
     "metadata": {},
     "output_type": "execute_result"
    }
   ],
   "source": [
    "id(first)"
   ]
  },
  {
   "cell_type": "code",
   "execution_count": 12,
   "id": "3fc8b82a",
   "metadata": {},
   "outputs": [
    {
     "data": {
      "text/plain": [
       "2491839238064"
      ]
     },
     "execution_count": 12,
     "metadata": {},
     "output_type": "execute_result"
    }
   ],
   "source": [
    "id(second)"
   ]
  },
  {
   "cell_type": "code",
   "execution_count": 13,
   "id": "e06305cc",
   "metadata": {},
   "outputs": [],
   "source": [
    "second = \"Nath\""
   ]
  },
  {
   "cell_type": "code",
   "execution_count": 14,
   "id": "389c9132",
   "metadata": {},
   "outputs": [
    {
     "data": {
      "text/plain": [
       "2491811132784"
      ]
     },
     "execution_count": 14,
     "metadata": {},
     "output_type": "execute_result"
    }
   ],
   "source": [
    "id(second)"
   ]
  },
  {
   "cell_type": "code",
   "execution_count": null,
   "id": "6e5c7714",
   "metadata": {},
   "outputs": [],
   "source": []
  }
 ],
 "metadata": {
  "kernelspec": {
   "display_name": "Python 3 (ipykernel)",
   "language": "python",
   "name": "python3"
  },
  "language_info": {
   "codemirror_mode": {
    "name": "ipython",
    "version": 3
   },
   "file_extension": ".py",
   "mimetype": "text/x-python",
   "name": "python",
   "nbconvert_exporter": "python",
   "pygments_lexer": "ipython3",
   "version": "3.9.6"
  }
 },
 "nbformat": 4,
 "nbformat_minor": 5
}
