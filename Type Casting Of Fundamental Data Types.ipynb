{
 "cells": [
  {
   "cell_type": "markdown",
   "id": "1e6de078",
   "metadata": {},
   "source": [
    "# Type Casting\n",
    "- Conversion of one type value to other type is called type casting.\n",
    "- It is also known as type coersion.\n",
    "- we have some inbuilt functions for this.\n",
    "1. int()\n",
    "2. float()\n",
    "3. complex()\n",
    "4. bool()\n",
    "5. str()"
   ]
  },
  {
   "cell_type": "markdown",
   "id": "d5532594",
   "metadata": {},
   "source": [
    "# <code>int()</code>\n",
    "- Used to convert other types into int."
   ]
  },
  {
   "cell_type": "code",
   "execution_count": null,
   "id": "1d1abf58",
   "metadata": {},
   "outputs": [],
   "source": [
    "# Examples"
   ]
  },
  {
   "cell_type": "markdown",
   "id": "7c1011c6",
   "metadata": {},
   "source": [
    "# <code>float()</code>\n",
    "- Used to convert other types into float."
   ]
  },
  {
   "cell_type": "code",
   "execution_count": null,
   "id": "053a7603",
   "metadata": {},
   "outputs": [],
   "source": [
    "# Examples"
   ]
  },
  {
   "cell_type": "markdown",
   "id": "a466d370",
   "metadata": {},
   "source": [
    "# <code>complex()</code>\n",
    "- Used to convert other types into complex."
   ]
  },
  {
   "cell_type": "code",
   "execution_count": null,
   "id": "45a1fe58",
   "metadata": {},
   "outputs": [],
   "source": [
    "# Examples"
   ]
  },
  {
   "cell_type": "markdown",
   "id": "2f16cd36",
   "metadata": {},
   "source": [
    "# <code>bool()</code>\n",
    "- Used to convert other types into bool."
   ]
  },
  {
   "cell_type": "code",
   "execution_count": null,
   "id": "b8c1934b",
   "metadata": {},
   "outputs": [],
   "source": [
    "# Examples"
   ]
  },
  {
   "cell_type": "markdown",
   "id": "47e61a3f",
   "metadata": {},
   "source": [
    "# <code>str()</code>\n",
    "- Used to convert other types into str."
   ]
  },
  {
   "cell_type": "code",
   "execution_count": null,
   "id": "8d0548ca",
   "metadata": {},
   "outputs": [],
   "source": [
    "# Examples"
   ]
  }
 ],
 "metadata": {
  "kernelspec": {
   "display_name": "Python 3 (ipykernel)",
   "language": "python",
   "name": "python3"
  },
  "language_info": {
   "codemirror_mode": {
    "name": "ipython",
    "version": 3
   },
   "file_extension": ".py",
   "mimetype": "text/x-python",
   "name": "python",
   "nbconvert_exporter": "python",
   "pygments_lexer": "ipython3",
   "version": "3.10.5"
  }
 },
 "nbformat": 4,
 "nbformat_minor": 5
}
