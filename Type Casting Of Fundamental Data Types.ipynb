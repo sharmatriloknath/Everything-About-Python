{
 "cells": [
  {
   "cell_type": "markdown",
   "id": "1e6de078",
   "metadata": {},
   "source": [
    "# Type Casting\n",
    "- Conversion of one type value to other type is called type casting.\n",
    "- It is also known as type coersion.\n",
    "- we have some inbuilt functions for this.\n",
    "1. int()\n",
    "2. float()\n",
    "3. complex()\n",
    "4. bool()\n",
    "5. str()"
   ]
  },
  {
   "cell_type": "markdown",
   "id": "d5532594",
   "metadata": {},
   "source": [
    "# <code>int()</code>\n",
    "- Used to convert other types into int.\n",
    "- cannot convert complex to int\n",
    "- string must contain numerical values."
   ]
  },
  {
   "cell_type": "code",
   "execution_count": 12,
   "id": "1d1abf58",
   "metadata": {},
   "outputs": [],
   "source": [
    "# Examples\n",
    "a = 10.5\n",
    "b = 10+5j\n",
    "c = True\n",
    "d = \"10\"\n",
    "e = \"name\""
   ]
  },
  {
   "cell_type": "code",
   "execution_count": 4,
   "id": "197288b8",
   "metadata": {},
   "outputs": [
    {
     "name": "stdout",
     "output_type": "stream",
     "text": [
      "Before conversion <class 'float'>\n",
      "value:====== 10\n",
      "after conversion <class 'int'>\n"
     ]
    }
   ],
   "source": [
    "# Float to int\n",
    "print(\"Before conversion\",type(a))\n",
    "a = int(a)\n",
    "print(\"value:======\",a)\n",
    "print(\"after conversion\",type(a))"
   ]
  },
  {
   "cell_type": "code",
   "execution_count": 5,
   "id": "2bb96443",
   "metadata": {},
   "outputs": [
    {
     "name": "stdout",
     "output_type": "stream",
     "text": [
      "Before conversion <class 'int'>\n"
     ]
    },
    {
     "ename": "TypeError",
     "evalue": "can't convert complex to int",
     "output_type": "error",
     "traceback": [
      "\u001b[1;31m---------------------------------------------------------------------------\u001b[0m",
      "\u001b[1;31mTypeError\u001b[0m                                 Traceback (most recent call last)",
      "Input \u001b[1;32mIn [5]\u001b[0m, in \u001b[0;36m<module>\u001b[1;34m\u001b[0m\n\u001b[0;32m      1\u001b[0m \u001b[38;5;66;03m# conplex to int\u001b[39;00m\n\u001b[0;32m      2\u001b[0m \u001b[38;5;28mprint\u001b[39m(\u001b[38;5;124m\"\u001b[39m\u001b[38;5;124mBefore conversion\u001b[39m\u001b[38;5;124m\"\u001b[39m,\u001b[38;5;28mtype\u001b[39m(a))\n\u001b[1;32m----> 3\u001b[0m b \u001b[38;5;241m=\u001b[39m \u001b[38;5;28;43mint\u001b[39;49m\u001b[43m(\u001b[49m\u001b[43mb\u001b[49m\u001b[43m)\u001b[49m\n\u001b[0;32m      4\u001b[0m \u001b[38;5;28mprint\u001b[39m(\u001b[38;5;124m\"\u001b[39m\u001b[38;5;124mvalue:======\u001b[39m\u001b[38;5;124m\"\u001b[39m,b)\n\u001b[0;32m      5\u001b[0m \u001b[38;5;28mprint\u001b[39m(\u001b[38;5;124m\"\u001b[39m\u001b[38;5;124mafter conversion\u001b[39m\u001b[38;5;124m\"\u001b[39m,\u001b[38;5;28mtype\u001b[39m(b))\n",
      "\u001b[1;31mTypeError\u001b[0m: can't convert complex to int"
     ]
    }
   ],
   "source": [
    "# conplex to int\n",
    "print(\"Before conversion\",type(a))\n",
    "b = int(b)\n",
    "print(\"value:======\",b)\n",
    "print(\"after conversion\",type(b))"
   ]
  },
  {
   "cell_type": "code",
   "execution_count": 6,
   "id": "27a53649",
   "metadata": {},
   "outputs": [
    {
     "name": "stdout",
     "output_type": "stream",
     "text": [
      "Before conversion <class 'bool'>\n",
      "value:====== 1\n",
      "after conversion <class 'int'>\n"
     ]
    }
   ],
   "source": [
    "# Bool to int\n",
    "print(\"Before conversion\",type(c))\n",
    "c = int(c)\n",
    "print(\"value:======\",c)\n",
    "print(\"after conversion\",type(c))"
   ]
  },
  {
   "cell_type": "code",
   "execution_count": 14,
   "id": "b16d7780",
   "metadata": {},
   "outputs": [
    {
     "name": "stdout",
     "output_type": "stream",
     "text": [
      "Before conversion <class 'str'>\n",
      "value:====== 10\n",
      "after conversion <class 'int'>\n"
     ]
    }
   ],
   "source": [
    "# str to int\n",
    "print(\"Before conversion\",type(d))\n",
    "d = int(d)\n",
    "print(\"value:======\",d)\n",
    "print(\"after conversion\",type(d))"
   ]
  },
  {
   "cell_type": "code",
   "execution_count": 15,
   "id": "e4e17a80",
   "metadata": {},
   "outputs": [
    {
     "name": "stdout",
     "output_type": "stream",
     "text": [
      "Before conversion <class 'str'>\n"
     ]
    },
    {
     "ename": "ValueError",
     "evalue": "invalid literal for int() with base 10: 'name'",
     "output_type": "error",
     "traceback": [
      "\u001b[1;31m---------------------------------------------------------------------------\u001b[0m",
      "\u001b[1;31mValueError\u001b[0m                                Traceback (most recent call last)",
      "Input \u001b[1;32mIn [15]\u001b[0m, in \u001b[0;36m<module>\u001b[1;34m\u001b[0m\n\u001b[0;32m      1\u001b[0m \u001b[38;5;66;03m# str to int\u001b[39;00m\n\u001b[0;32m      2\u001b[0m \u001b[38;5;28mprint\u001b[39m(\u001b[38;5;124m\"\u001b[39m\u001b[38;5;124mBefore conversion\u001b[39m\u001b[38;5;124m\"\u001b[39m,\u001b[38;5;28mtype\u001b[39m(e))\n\u001b[1;32m----> 3\u001b[0m d \u001b[38;5;241m=\u001b[39m \u001b[38;5;28;43mint\u001b[39;49m\u001b[43m(\u001b[49m\u001b[43me\u001b[49m\u001b[43m)\u001b[49m\n\u001b[0;32m      4\u001b[0m \u001b[38;5;28mprint\u001b[39m(\u001b[38;5;124m\"\u001b[39m\u001b[38;5;124mvalue:======\u001b[39m\u001b[38;5;124m\"\u001b[39m,e)\n\u001b[0;32m      5\u001b[0m \u001b[38;5;28mprint\u001b[39m(\u001b[38;5;124m\"\u001b[39m\u001b[38;5;124mafter conversion\u001b[39m\u001b[38;5;124m\"\u001b[39m,\u001b[38;5;28mtype\u001b[39m(e))\n",
      "\u001b[1;31mValueError\u001b[0m: invalid literal for int() with base 10: 'name'"
     ]
    }
   ],
   "source": [
    "# str to int\n",
    "print(\"Before conversion\",type(e))\n",
    "d = int(e)\n",
    "print(\"value:======\",e)\n",
    "print(\"after conversion\",type(e))"
   ]
  },
  {
   "cell_type": "markdown",
   "id": "7c1011c6",
   "metadata": {},
   "source": [
    "# <code>float()</code>\n",
    "- Used to convert other types into float.\n",
    "-  can't convert complex to float\n",
    "- could not convert string to float: 'name'"
   ]
  },
  {
   "cell_type": "code",
   "execution_count": 19,
   "id": "053a7603",
   "metadata": {},
   "outputs": [],
   "source": [
    "# Examples\n",
    "a = 10\n",
    "b = 10+5j\n",
    "c = True\n",
    "d = \"10\"\n",
    "e = \"name\""
   ]
  },
  {
   "cell_type": "code",
   "execution_count": 20,
   "id": "73e268dd",
   "metadata": {},
   "outputs": [
    {
     "name": "stdout",
     "output_type": "stream",
     "text": [
      "Before conversion <class 'int'>\n",
      "value:====== 10.0\n",
      "after conversion <class 'float'>\n"
     ]
    }
   ],
   "source": [
    "# int to float\n",
    "print(\"Before conversion\",type(a))\n",
    "a = float(a)\n",
    "print(\"value:======\",a)\n",
    "print(\"after conversion\",type(a))"
   ]
  },
  {
   "cell_type": "code",
   "execution_count": 21,
   "id": "932a660e",
   "metadata": {},
   "outputs": [
    {
     "name": "stdout",
     "output_type": "stream",
     "text": [
      "Before conversion <class 'complex'>\n"
     ]
    },
    {
     "ename": "TypeError",
     "evalue": "can't convert complex to float",
     "output_type": "error",
     "traceback": [
      "\u001b[1;31m---------------------------------------------------------------------------\u001b[0m",
      "\u001b[1;31mTypeError\u001b[0m                                 Traceback (most recent call last)",
      "Input \u001b[1;32mIn [21]\u001b[0m, in \u001b[0;36m<module>\u001b[1;34m\u001b[0m\n\u001b[0;32m      1\u001b[0m \u001b[38;5;66;03m# complex to float\u001b[39;00m\n\u001b[0;32m      2\u001b[0m \u001b[38;5;28mprint\u001b[39m(\u001b[38;5;124m\"\u001b[39m\u001b[38;5;124mBefore conversion\u001b[39m\u001b[38;5;124m\"\u001b[39m,\u001b[38;5;28mtype\u001b[39m(b))\n\u001b[1;32m----> 3\u001b[0m b \u001b[38;5;241m=\u001b[39m \u001b[38;5;28;43mfloat\u001b[39;49m\u001b[43m(\u001b[49m\u001b[43mb\u001b[49m\u001b[43m)\u001b[49m\n\u001b[0;32m      4\u001b[0m \u001b[38;5;28mprint\u001b[39m(\u001b[38;5;124m\"\u001b[39m\u001b[38;5;124mvalue:======\u001b[39m\u001b[38;5;124m\"\u001b[39m,b)\n\u001b[0;32m      5\u001b[0m \u001b[38;5;28mprint\u001b[39m(\u001b[38;5;124m\"\u001b[39m\u001b[38;5;124mafter conversion\u001b[39m\u001b[38;5;124m\"\u001b[39m,\u001b[38;5;28mtype\u001b[39m(b))\n",
      "\u001b[1;31mTypeError\u001b[0m: can't convert complex to float"
     ]
    }
   ],
   "source": [
    "# complex to float\n",
    "print(\"Before conversion\",type(b))\n",
    "b = float(b)\n",
    "print(\"value:======\",b)\n",
    "print(\"after conversion\",type(b))"
   ]
  },
  {
   "cell_type": "code",
   "execution_count": 22,
   "id": "7024d811",
   "metadata": {},
   "outputs": [
    {
     "name": "stdout",
     "output_type": "stream",
     "text": [
      "Before conversion <class 'bool'>\n",
      "value:====== 1.0\n",
      "after conversion <class 'float'>\n"
     ]
    }
   ],
   "source": [
    "# Bool to float\n",
    "print(\"Before conversion\",type(c))\n",
    "c = float(c)\n",
    "print(\"value:======\",c)\n",
    "print(\"after conversion\",type(c))"
   ]
  },
  {
   "cell_type": "code",
   "execution_count": 23,
   "id": "52a80237",
   "metadata": {},
   "outputs": [
    {
     "name": "stdout",
     "output_type": "stream",
     "text": [
      "Before conversion <class 'str'>\n",
      "value:====== 10.0\n",
      "after conversion <class 'float'>\n"
     ]
    }
   ],
   "source": [
    "# str to float\n",
    "print(\"Before conversion\",type(d))\n",
    "d = float(d)\n",
    "print(\"value:======\",d)\n",
    "print(\"after conversion\",type(d))"
   ]
  },
  {
   "cell_type": "code",
   "execution_count": 24,
   "id": "4743298d",
   "metadata": {},
   "outputs": [
    {
     "name": "stdout",
     "output_type": "stream",
     "text": [
      "Before conversion <class 'str'>\n"
     ]
    },
    {
     "ename": "ValueError",
     "evalue": "could not convert string to float: 'name'",
     "output_type": "error",
     "traceback": [
      "\u001b[1;31m---------------------------------------------------------------------------\u001b[0m",
      "\u001b[1;31mValueError\u001b[0m                                Traceback (most recent call last)",
      "Input \u001b[1;32mIn [24]\u001b[0m, in \u001b[0;36m<module>\u001b[1;34m\u001b[0m\n\u001b[0;32m      1\u001b[0m \u001b[38;5;66;03m# str to float\u001b[39;00m\n\u001b[0;32m      2\u001b[0m \u001b[38;5;28mprint\u001b[39m(\u001b[38;5;124m\"\u001b[39m\u001b[38;5;124mBefore conversion\u001b[39m\u001b[38;5;124m\"\u001b[39m,\u001b[38;5;28mtype\u001b[39m(e))\n\u001b[1;32m----> 3\u001b[0m d \u001b[38;5;241m=\u001b[39m \u001b[38;5;28;43mfloat\u001b[39;49m\u001b[43m(\u001b[49m\u001b[43me\u001b[49m\u001b[43m)\u001b[49m\n\u001b[0;32m      4\u001b[0m \u001b[38;5;28mprint\u001b[39m(\u001b[38;5;124m\"\u001b[39m\u001b[38;5;124mvalue:======\u001b[39m\u001b[38;5;124m\"\u001b[39m,e)\n\u001b[0;32m      5\u001b[0m \u001b[38;5;28mprint\u001b[39m(\u001b[38;5;124m\"\u001b[39m\u001b[38;5;124mafter conversion\u001b[39m\u001b[38;5;124m\"\u001b[39m,\u001b[38;5;28mtype\u001b[39m(e))\n",
      "\u001b[1;31mValueError\u001b[0m: could not convert string to float: 'name'"
     ]
    }
   ],
   "source": [
    "# str to float\n",
    "print(\"Before conversion\",type(e))\n",
    "d = float(e)\n",
    "print(\"value:======\",e)\n",
    "print(\"after conversion\",type(e))"
   ]
  },
  {
   "cell_type": "code",
   "execution_count": null,
   "id": "faa75053",
   "metadata": {},
   "outputs": [],
   "source": []
  },
  {
   "cell_type": "code",
   "execution_count": null,
   "id": "a3a2a3b1",
   "metadata": {},
   "outputs": [],
   "source": []
  },
  {
   "cell_type": "code",
   "execution_count": null,
   "id": "6566e865",
   "metadata": {},
   "outputs": [],
   "source": []
  },
  {
   "cell_type": "markdown",
   "id": "a466d370",
   "metadata": {},
   "source": [
    "# <code>complex()</code>\n",
    "- Used to convert other types into complex."
   ]
  },
  {
   "cell_type": "code",
   "execution_count": 26,
   "id": "45a1fe58",
   "metadata": {},
   "outputs": [],
   "source": [
    "# Examples\n",
    "a = 10\n",
    "b = 10.5\n",
    "c = True\n",
    "d = \"10\"\n",
    "e = \"name\""
   ]
  },
  {
   "cell_type": "code",
   "execution_count": 25,
   "id": "1970c06d",
   "metadata": {},
   "outputs": [
    {
     "name": "stdout",
     "output_type": "stream",
     "text": [
      "Before conversion <class 'float'>\n",
      "value:====== (10+0j)\n",
      "after conversion <class 'complex'>\n"
     ]
    }
   ],
   "source": [
    "# int to complex\n",
    "print(\"Before conversion\",type(a))\n",
    "a = complex(a)\n",
    "print(\"value:======\",a)\n",
    "print(\"after conversion\",type(a))"
   ]
  },
  {
   "cell_type": "code",
   "execution_count": 27,
   "id": "ca027af6",
   "metadata": {},
   "outputs": [
    {
     "name": "stdout",
     "output_type": "stream",
     "text": [
      "Before conversion <class 'float'>\n",
      "value:====== (10.5+0j)\n",
      "after conversion <class 'complex'>\n"
     ]
    }
   ],
   "source": [
    "# float to complex\n",
    "print(\"Before conversion\",type(b))\n",
    "b = complex(b)\n",
    "print(\"value:======\",b)\n",
    "print(\"after conversion\",type(b))"
   ]
  },
  {
   "cell_type": "code",
   "execution_count": 28,
   "id": "1e7ebd39",
   "metadata": {},
   "outputs": [
    {
     "name": "stdout",
     "output_type": "stream",
     "text": [
      "Before conversion <class 'bool'>\n",
      "value:====== (1+0j)\n",
      "after conversion <class 'complex'>\n"
     ]
    }
   ],
   "source": [
    "# Bool to complex\n",
    "print(\"Before conversion\",type(c))\n",
    "c = complex(c)\n",
    "print(\"value:======\",c)\n",
    "print(\"after conversion\",type(c))"
   ]
  },
  {
   "cell_type": "code",
   "execution_count": 29,
   "id": "23a8c325",
   "metadata": {},
   "outputs": [
    {
     "name": "stdout",
     "output_type": "stream",
     "text": [
      "Before conversion <class 'str'>\n",
      "value:====== (10+0j)\n",
      "after conversion <class 'complex'>\n"
     ]
    }
   ],
   "source": [
    "# str to complex\n",
    "print(\"Before conversion\",type(d))\n",
    "d = complex(d)\n",
    "print(\"value:======\",d)\n",
    "print(\"after conversion\",type(d))"
   ]
  },
  {
   "cell_type": "code",
   "execution_count": 30,
   "id": "3d580ed6",
   "metadata": {},
   "outputs": [
    {
     "name": "stdout",
     "output_type": "stream",
     "text": [
      "Before conversion <class 'str'>\n"
     ]
    },
    {
     "ename": "ValueError",
     "evalue": "complex() arg is a malformed string",
     "output_type": "error",
     "traceback": [
      "\u001b[1;31m---------------------------------------------------------------------------\u001b[0m",
      "\u001b[1;31mValueError\u001b[0m                                Traceback (most recent call last)",
      "Input \u001b[1;32mIn [30]\u001b[0m, in \u001b[0;36m<module>\u001b[1;34m\u001b[0m\n\u001b[0;32m      1\u001b[0m \u001b[38;5;66;03m# str to complex\u001b[39;00m\n\u001b[0;32m      2\u001b[0m \u001b[38;5;28mprint\u001b[39m(\u001b[38;5;124m\"\u001b[39m\u001b[38;5;124mBefore conversion\u001b[39m\u001b[38;5;124m\"\u001b[39m,\u001b[38;5;28mtype\u001b[39m(e))\n\u001b[1;32m----> 3\u001b[0m d \u001b[38;5;241m=\u001b[39m \u001b[38;5;28;43mcomplex\u001b[39;49m\u001b[43m(\u001b[49m\u001b[43me\u001b[49m\u001b[43m)\u001b[49m\n\u001b[0;32m      4\u001b[0m \u001b[38;5;28mprint\u001b[39m(\u001b[38;5;124m\"\u001b[39m\u001b[38;5;124mvalue:======\u001b[39m\u001b[38;5;124m\"\u001b[39m,e)\n\u001b[0;32m      5\u001b[0m \u001b[38;5;28mprint\u001b[39m(\u001b[38;5;124m\"\u001b[39m\u001b[38;5;124mafter conversion\u001b[39m\u001b[38;5;124m\"\u001b[39m,\u001b[38;5;28mtype\u001b[39m(e))\n",
      "\u001b[1;31mValueError\u001b[0m: complex() arg is a malformed string"
     ]
    }
   ],
   "source": [
    "# str to complex\n",
    "print(\"Before conversion\",type(e))\n",
    "d = complex(e)\n",
    "print(\"value:======\",e)\n",
    "print(\"after conversion\",type(e))"
   ]
  },
  {
   "cell_type": "code",
   "execution_count": null,
   "id": "5c3c3876",
   "metadata": {},
   "outputs": [],
   "source": []
  },
  {
   "cell_type": "markdown",
   "id": "2f16cd36",
   "metadata": {},
   "source": [
    "# <code>bool()</code>\n",
    "- Used to convert other types into bool."
   ]
  },
  {
   "cell_type": "code",
   "execution_count": null,
   "id": "b8c1934b",
   "metadata": {},
   "outputs": [],
   "source": [
    "# Examples"
   ]
  },
  {
   "cell_type": "markdown",
   "id": "47e61a3f",
   "metadata": {},
   "source": [
    "# <code>str()</code>\n",
    "- Used to convert other types into str."
   ]
  },
  {
   "cell_type": "code",
   "execution_count": null,
   "id": "8d0548ca",
   "metadata": {},
   "outputs": [],
   "source": [
    "# Examples"
   ]
  }
 ],
 "metadata": {
  "kernelspec": {
   "display_name": "Python 3 (ipykernel)",
   "language": "python",
   "name": "python3"
  },
  "language_info": {
   "codemirror_mode": {
    "name": "ipython",
    "version": 3
   },
   "file_extension": ".py",
   "mimetype": "text/x-python",
   "name": "python",
   "nbconvert_exporter": "python",
   "pygments_lexer": "ipython3",
   "version": "3.9.6"
  }
 },
 "nbformat": 4,
 "nbformat_minor": 5
}
