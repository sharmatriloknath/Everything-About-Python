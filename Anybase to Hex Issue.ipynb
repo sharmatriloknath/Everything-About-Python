{
 "cells": [
  {
   "cell_type": "markdown",
   "id": "02666072",
   "metadata": {},
   "source": [
    "# AnyBase to Hexa Conversion"
   ]
  },
  {
   "cell_type": "code",
   "execution_count": 2,
   "id": "491a06b8",
   "metadata": {},
   "outputs": [
    {
     "data": {
      "text/plain": [
       "'0x64'"
      ]
     },
     "execution_count": 2,
     "metadata": {},
     "output_type": "execute_result"
    }
   ],
   "source": [
    "# Decimal to Hex\n",
    "hex(100)"
   ]
  },
  {
   "cell_type": "code",
   "execution_count": 3,
   "id": "fbfd5c20",
   "metadata": {},
   "outputs": [
    {
     "data": {
      "text/plain": [
       "'0xb'"
      ]
     },
     "execution_count": 3,
     "metadata": {},
     "output_type": "execute_result"
    }
   ],
   "source": [
    "# Bin to Hex\n",
    "hex(0B1011)"
   ]
  },
  {
   "cell_type": "code",
   "execution_count": 4,
   "id": "d65656ff",
   "metadata": {},
   "outputs": [
    {
     "data": {
      "text/plain": [
       "'0x3f'"
      ]
     },
     "execution_count": 4,
     "metadata": {},
     "output_type": "execute_result"
    }
   ],
   "source": [
    "# Octa to hexa\n",
    "hex(0o77)"
   ]
  },
  {
   "cell_type": "code",
   "execution_count": null,
   "id": "8644c828",
   "metadata": {},
   "outputs": [],
   "source": []
  }
 ],
 "metadata": {
  "kernelspec": {
   "display_name": "Python 3 (ipykernel)",
   "language": "python",
   "name": "python3"
  },
  "language_info": {
   "codemirror_mode": {
    "name": "ipython",
    "version": 3
   },
   "file_extension": ".py",
   "mimetype": "text/x-python",
   "name": "python",
   "nbconvert_exporter": "python",
   "pygments_lexer": "ipython3",
   "version": "3.9.6"
  }
 },
 "nbformat": 4,
 "nbformat_minor": 5
}
