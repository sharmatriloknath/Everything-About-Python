{
 "cells": [
  {
   "cell_type": "markdown",
   "id": "68698197",
   "metadata": {},
   "source": [
    "## Logical Operators\n",
    "- You can apply these operators for all.\n",
    "``` python\n",
    "and\n",
    "or\n",
    "not\n",
    "```\n",
    "\n",
    "**Boolean**\n",
    "\n",
    "- `and` -- If both args are True then result is True else False\n",
    "- `or`  -- If One of the arg is True then result is True else False.\n",
    "- `not` -- Return the Opposite.\n",
    "\n",
    "**Non Boolean**\n",
    "\n",
    "- `a and b` -- If a is True Then return b | If a is false return a else return b.\n",
    "- `a or b`  -- If a is True returns a | If a is false return b.\n",
    "- `not a`   -- If a is True returns False."
   ]
  },
  {
   "cell_type": "code",
   "execution_count": null,
   "id": "202086c3",
   "metadata": {},
   "outputs": [],
   "source": [
    "# Examples"
   ]
  }
 ],
 "metadata": {
  "kernelspec": {
   "display_name": "Python 3 (ipykernel)",
   "language": "python",
   "name": "python3"
  },
  "language_info": {
   "codemirror_mode": {
    "name": "ipython",
    "version": 3
   },
   "file_extension": ".py",
   "mimetype": "text/x-python",
   "name": "python",
   "nbconvert_exporter": "python",
   "pygments_lexer": "ipython3",
   "version": "3.9.6"
  }
 },
 "nbformat": 4,
 "nbformat_minor": 5
}
