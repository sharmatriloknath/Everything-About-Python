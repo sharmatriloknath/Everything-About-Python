{
 "cells": [
  {
   "cell_type": "markdown",
   "id": "68698197",
   "metadata": {},
   "source": [
    "## Logical Operators\n",
    "- You can apply these operators for all.\n",
    "``` python\n",
    "and\n",
    "or\n",
    "not\n",
    "```\n",
    "\n",
    "**Boolean**\n",
    "\n",
    "- `and` -- If both args are True then result is True else False\n",
    "- `or`  -- If One of the arg is True then result is True else False.\n",
    "- `not` -- Return the Opposite.\n",
    "\n",
    "**Non Boolean**\n",
    "\n",
    "- `a and b` -- If a is True Then return b | If a is false return a else return b.\n",
    "- `a or b`  -- If a is True returns a | If a is false return b.\n",
    "- `not a`   -- If a is True returns False."
   ]
  },
  {
   "cell_type": "code",
   "execution_count": 15,
   "id": "202086c3",
   "metadata": {},
   "outputs": [
    {
     "data": {
      "text/plain": [
       "True"
      ]
     },
     "execution_count": 15,
     "metadata": {},
     "output_type": "execute_result"
    }
   ],
   "source": [
    "# Examples\n",
    "#Boolean\n",
    "# True and False\n",
    "# False or False\n",
    "not False"
   ]
  },
  {
   "cell_type": "code",
   "execution_count": 17,
   "id": "72c5b01a",
   "metadata": {},
   "outputs": [
    {
     "data": {
      "text/plain": [
       "False"
      ]
     },
     "execution_count": 17,
     "metadata": {},
     "output_type": "execute_result"
    }
   ],
   "source": [
    "False and 5"
   ]
  },
  {
   "cell_type": "code",
   "execution_count": 18,
   "id": "d04b10a9",
   "metadata": {},
   "outputs": [
    {
     "data": {
      "text/plain": [
       "10"
      ]
     },
     "execution_count": 18,
     "metadata": {},
     "output_type": "execute_result"
    }
   ],
   "source": [
    "10 or 5"
   ]
  },
  {
   "cell_type": "code",
   "execution_count": 19,
   "id": "7ed77812",
   "metadata": {},
   "outputs": [
    {
     "data": {
      "text/plain": [
       "5"
      ]
     },
     "execution_count": 19,
     "metadata": {},
     "output_type": "execute_result"
    }
   ],
   "source": [
    "False or 5"
   ]
  },
  {
   "cell_type": "code",
   "execution_count": 21,
   "id": "bbad37dd",
   "metadata": {},
   "outputs": [
    {
     "data": {
      "text/plain": [
       "False"
      ]
     },
     "execution_count": 21,
     "metadata": {},
     "output_type": "execute_result"
    }
   ],
   "source": [
    "not 10"
   ]
  },
  {
   "cell_type": "code",
   "execution_count": null,
   "id": "1a65c715",
   "metadata": {},
   "outputs": [],
   "source": []
  }
 ],
 "metadata": {
  "kernelspec": {
   "display_name": "Python 3 (ipykernel)",
   "language": "python",
   "name": "python3"
  },
  "language_info": {
   "codemirror_mode": {
    "name": "ipython",
    "version": 3
   },
   "file_extension": ".py",
   "mimetype": "text/x-python",
   "name": "python",
   "nbconvert_exporter": "python",
   "pygments_lexer": "ipython3",
   "version": "3.9.6"
  }
 },
 "nbformat": 4,
 "nbformat_minor": 5
}
