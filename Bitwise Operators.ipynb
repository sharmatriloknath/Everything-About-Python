{
 "cells": [
  {
   "attachments": {},
   "cell_type": "markdown",
   "id": "de8c51bf",
   "metadata": {},
   "source": [
    "## Bitwise Operators\n",
    "- applicable only for int and boolean types.\n",
    "- if we try to apply for any other type then we will get Error.\n",
    "- Missing in python -- > unsigned right shift operator denoted by three greater-than signs (>>>).\n",
    "\n",
    "**Reference**\n",
    "\n",
    "https://realpython.com/python-bitwise-operators/\n",
    "\n",
    "https://en.wikipedia.org/wiki/Logical_conjunction\n",
    "<img src=\"https://techvidvan.com/tutorials/wp-content/uploads/sites/2/2019/12/types-of-bitwise-operators.jpg\">"
   ]
  },
  {
   "cell_type": "code",
   "execution_count": null,
   "id": "46e7014c",
   "metadata": {},
   "outputs": [],
   "source": []
  },
  {
   "cell_type": "code",
   "execution_count": null,
   "id": "3be8ff0d",
   "metadata": {},
   "outputs": [],
   "source": []
  },
  {
   "cell_type": "code",
   "execution_count": null,
   "id": "af7a966c",
   "metadata": {},
   "outputs": [],
   "source": []
  },
  {
   "cell_type": "markdown",
   "id": "bd48c8dc",
   "metadata": {},
   "source": [
    "\n"
   ]
  }
 ],
 "metadata": {
  "kernelspec": {
   "display_name": "Python 3 (ipykernel)",
   "language": "python",
   "name": "python3"
  },
  "language_info": {
   "codemirror_mode": {
    "name": "ipython",
    "version": 3
   },
   "file_extension": ".py",
   "mimetype": "text/x-python",
   "name": "python",
   "nbconvert_exporter": "python",
   "pygments_lexer": "ipython3",
   "version": "3.9.6"
  }
 },
 "nbformat": 4,
 "nbformat_minor": 5
}
