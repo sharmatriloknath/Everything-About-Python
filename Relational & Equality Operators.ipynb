{
 "cells": [
  {
   "cell_type": "markdown",
   "id": "c878330c",
   "metadata": {},
   "source": [
    "## Relational Operators\n",
    "- These are Operators used for comparison.\n",
    "```python\n",
    ">\n",
    ">=\n",
    "<\n",
    "<=\n",
    "```\n",
    "- Output of these operators will be either True or False.\n",
    "- In chaining if all comparison returns True then result will be True else False."
   ]
  },
  {
   "cell_type": "code",
   "execution_count": null,
   "id": "f0684859",
   "metadata": {},
   "outputs": [],
   "source": [
    "# Examples"
   ]
  },
  {
   "cell_type": "code",
   "execution_count": null,
   "id": "2ea0495b",
   "metadata": {},
   "outputs": [],
   "source": []
  },
  {
   "cell_type": "code",
   "execution_count": null,
   "id": "1214ffb5",
   "metadata": {},
   "outputs": [],
   "source": []
  },
  {
   "cell_type": "code",
   "execution_count": null,
   "id": "8bd0f1a4",
   "metadata": {},
   "outputs": [],
   "source": []
  },
  {
   "cell_type": "markdown",
   "id": "4447e8ff",
   "metadata": {},
   "source": [
    "## Equality Operators\n",
    "- These are operators used to check the equality of args.\n",
    "```python\n",
    "==\n",
    "!=\n",
    "```\n",
    "- The return type will be either True or False.\n",
    "- Chaining is possible."
   ]
  },
  {
   "cell_type": "code",
   "execution_count": null,
   "id": "598a1645",
   "metadata": {},
   "outputs": [],
   "source": [
    "# Examples"
   ]
  }
 ],
 "metadata": {
  "kernelspec": {
   "display_name": "Python 3 (ipykernel)",
   "language": "python",
   "name": "python3"
  },
  "language_info": {
   "codemirror_mode": {
    "name": "ipython",
    "version": 3
   },
   "file_extension": ".py",
   "mimetype": "text/x-python",
   "name": "python",
   "nbconvert_exporter": "python",
   "pygments_lexer": "ipython3",
   "version": "3.9.6"
  }
 },
 "nbformat": 4,
 "nbformat_minor": 5
}
