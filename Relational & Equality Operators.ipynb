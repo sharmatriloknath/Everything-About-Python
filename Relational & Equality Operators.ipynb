{
 "cells": [
  {
   "cell_type": "markdown",
   "id": "c878330c",
   "metadata": {},
   "source": [
    "## Relational Operators\n",
    "- These are Operators used for comparison.\n",
    "```python\n",
    ">\n",
    ">=\n",
    "<\n",
    "<=\n",
    "```\n",
    "- Output of these operators will be either True or False.\n",
    "- In chaining if all comparison returns True then result will be True else False."
   ]
  },
  {
   "cell_type": "code",
   "execution_count": null,
   "id": "f0684859",
   "metadata": {},
   "outputs": [],
   "source": [
    "# Examples"
   ]
  },
  {
   "cell_type": "code",
   "execution_count": 1,
   "id": "2ea0495b",
   "metadata": {},
   "outputs": [
    {
     "data": {
      "text/plain": [
       "True"
      ]
     },
     "execution_count": 1,
     "metadata": {},
     "output_type": "execute_result"
    }
   ],
   "source": [
    "10>5"
   ]
  },
  {
   "cell_type": "code",
   "execution_count": 2,
   "id": "1214ffb5",
   "metadata": {},
   "outputs": [
    {
     "data": {
      "text/plain": [
       "False"
      ]
     },
     "execution_count": 2,
     "metadata": {},
     "output_type": "execute_result"
    }
   ],
   "source": [
    "10>=11"
   ]
  },
  {
   "cell_type": "code",
   "execution_count": 3,
   "id": "8bd0f1a4",
   "metadata": {},
   "outputs": [
    {
     "data": {
      "text/plain": [
       "True"
      ]
     },
     "execution_count": 3,
     "metadata": {},
     "output_type": "execute_result"
    }
   ],
   "source": [
    "10>7>6"
   ]
  },
  {
   "cell_type": "code",
   "execution_count": 4,
   "id": "f283a632",
   "metadata": {},
   "outputs": [
    {
     "data": {
      "text/plain": [
       "False"
      ]
     },
     "execution_count": 4,
     "metadata": {},
     "output_type": "execute_result"
    }
   ],
   "source": [
    "10>7>8"
   ]
  },
  {
   "cell_type": "markdown",
   "id": "4447e8ff",
   "metadata": {},
   "source": [
    "## Equality Operators\n",
    "- These are operators used to check the equality of args.\n",
    "```python\n",
    "==\n",
    "!=\n",
    "```\n",
    "- The return type will be either True or False.\n",
    "- Chaining is possible."
   ]
  },
  {
   "cell_type": "code",
   "execution_count": 7,
   "id": "598a1645",
   "metadata": {},
   "outputs": [],
   "source": [
    "# Examples\n",
    "x = 10\n",
    "y = 15"
   ]
  },
  {
   "cell_type": "code",
   "execution_count": 9,
   "id": "54cb7e76",
   "metadata": {},
   "outputs": [
    {
     "data": {
      "text/plain": [
       "True"
      ]
     },
     "execution_count": 9,
     "metadata": {},
     "output_type": "execute_result"
    }
   ],
   "source": [
    "x!=y"
   ]
  },
  {
   "cell_type": "code",
   "execution_count": null,
   "id": "a76b2659",
   "metadata": {},
   "outputs": [],
   "source": []
  }
 ],
 "metadata": {
  "kernelspec": {
   "display_name": "Python 3 (ipykernel)",
   "language": "python",
   "name": "python3"
  },
  "language_info": {
   "codemirror_mode": {
    "name": "ipython",
    "version": 3
   },
   "file_extension": ".py",
   "mimetype": "text/x-python",
   "name": "python",
   "nbconvert_exporter": "python",
   "pygments_lexer": "ipython3",
   "version": "3.9.6"
  }
 },
 "nbformat": 4,
 "nbformat_minor": 5
}
