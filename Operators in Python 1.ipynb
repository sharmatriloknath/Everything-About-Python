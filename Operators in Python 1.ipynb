{
 "cells": [
  {
   "cell_type": "markdown",
   "id": "3748ecec",
   "metadata": {},
   "source": [
    "# Operators\n",
    "- Operator is a symbol that performs certain operations.\n",
    "- We have several types of Operators in python.\n",
    "\n",
    "    1. Airthmetic Operators\n",
    "    2. Relational Operators\n",
    "    3. Logical Operators\n",
    "    4. Bitwise Operators\n",
    "    5. Assignment Operators\n",
    "    6. Membership Operators\n",
    "    7. Identity Operators\n",
    "    8. Ternary Operators\n",
    "   \n",
    "Now Here we will discuss every type with the help of examples."
   ]
  },
  {
   "cell_type": "markdown",
   "id": "b64e50ee",
   "metadata": {},
   "source": [
    "## Airthmetic Operators\n",
    "- These are simple symbols that are used to perform mathematical operations.\n",
    "\n",
    "```python\n",
    "+\n",
    "-\n",
    "*\n",
    "/\n",
    "//\n",
    "%\n",
    "**\n",
    "```"
   ]
  },
  {
   "cell_type": "code",
   "execution_count": null,
   "id": "5a463aa4",
   "metadata": {},
   "outputs": [],
   "source": [
    "# Examples For each Operators"
   ]
  },
  {
   "cell_type": "code",
   "execution_count": 1,
   "id": "14ae7ef5",
   "metadata": {},
   "outputs": [
    {
     "name": "stdout",
     "output_type": "stream",
     "text": [
      "30\n",
      "-10\n",
      "200\n",
      "0.5\n",
      "0\n",
      "100000000000000000000\n"
     ]
    }
   ],
   "source": [
    "x = 10\n",
    "y= 20\n",
    "\n",
    "print(x+y)\n",
    "print(x-y)\n",
    "print(x*y)\n",
    "print(x/y)\n",
    "print(x//y)\n",
    "print(x**y)"
   ]
  },
  {
   "cell_type": "code",
   "execution_count": 2,
   "id": "406d5c24",
   "metadata": {},
   "outputs": [
    {
     "data": {
      "text/plain": [
       "2.0"
      ]
     },
     "execution_count": 2,
     "metadata": {},
     "output_type": "execute_result"
    }
   ],
   "source": [
    "20/10"
   ]
  },
  {
   "cell_type": "code",
   "execution_count": 4,
   "id": "08c17ba2",
   "metadata": {},
   "outputs": [
    {
     "data": {
      "text/plain": [
       "2.0"
      ]
     },
     "execution_count": 4,
     "metadata": {},
     "output_type": "execute_result"
    }
   ],
   "source": [
    "20.5//10"
   ]
  },
  {
   "cell_type": "code",
   "execution_count": 6,
   "id": "f83a38ee",
   "metadata": {},
   "outputs": [
    {
     "data": {
      "text/plain": [
       "0"
      ]
     },
     "execution_count": 6,
     "metadata": {},
     "output_type": "execute_result"
    }
   ],
   "source": [
    "10%5"
   ]
  },
  {
   "cell_type": "markdown",
   "id": "7ec2e128",
   "metadata": {},
   "source": [
    "**Important Points**\n",
    "1. Division Operator `/` always return floating point.\n",
    "2. Floor Division Operator `//` Return both int and float point depending on args.\n",
    "3. You can use `+*` operator in string also."
   ]
  },
  {
   "cell_type": "code",
   "execution_count": null,
   "id": "b72d5b20",
   "metadata": {},
   "outputs": [],
   "source": [
    "# Examples For Each Point\n"
   ]
  },
  {
   "cell_type": "code",
   "execution_count": null,
   "id": "2bd1e9aa",
   "metadata": {},
   "outputs": [],
   "source": []
  },
  {
   "cell_type": "markdown",
   "id": "cb366253",
   "metadata": {},
   "source": [
    "#### You can use these operators in string also"
   ]
  },
  {
   "cell_type": "code",
   "execution_count": 7,
   "id": "cc34ba71",
   "metadata": {},
   "outputs": [
    {
     "data": {
      "text/plain": [
       "'codeviewers'"
      ]
     },
     "execution_count": 7,
     "metadata": {},
     "output_type": "execute_result"
    }
   ],
   "source": [
    "# concatenation operator\n",
    "\"code\"+\"viewers\""
   ]
  },
  {
   "cell_type": "code",
   "execution_count": 8,
   "id": "e05daef5",
   "metadata": {},
   "outputs": [
    {
     "data": {
      "text/plain": [
       "'codecodecodecodecode'"
      ]
     },
     "execution_count": 8,
     "metadata": {},
     "output_type": "execute_result"
    }
   ],
   "source": [
    "# Repitition Operator\n",
    "\"code\"*5"
   ]
  },
  {
   "cell_type": "code",
   "execution_count": null,
   "id": "85250ef3",
   "metadata": {},
   "outputs": [],
   "source": [
    "# power operator\n",
    "10**2"
   ]
  },
  {
   "cell_type": "code",
   "execution_count": null,
   "id": "256f0358",
   "metadata": {},
   "outputs": [],
   "source": []
  }
 ],
 "metadata": {
  "kernelspec": {
   "display_name": "Python 3 (ipykernel)",
   "language": "python",
   "name": "python3"
  },
  "language_info": {
   "codemirror_mode": {
    "name": "ipython",
    "version": 3
   },
   "file_extension": ".py",
   "mimetype": "text/x-python",
   "name": "python",
   "nbconvert_exporter": "python",
   "pygments_lexer": "ipython3",
   "version": "3.9.6"
  }
 },
 "nbformat": 4,
 "nbformat_minor": 5
}
