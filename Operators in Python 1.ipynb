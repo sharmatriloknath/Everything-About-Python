{
 "cells": [
  {
   "cell_type": "markdown",
   "id": "3748ecec",
   "metadata": {},
   "source": [
    "# Operators\n",
    "- Operator is a symbol that performs certain operations.\n",
    "- We have several types of Operators in python.\n",
    "\n",
    "    1. Airthmetic Operators\n",
    "    2. Relational Operators\n",
    "    3. Logical Operators\n",
    "    4. Bitwise Operators\n",
    "    5. Assignment Operators\n",
    "    6. Membership Operators\n",
    "    7. Identity Operators\n",
    "    8. Ternary Operators\n",
    "   \n",
    "Now Here we will discuss every type with the help of examples."
   ]
  },
  {
   "cell_type": "markdown",
   "id": "b64e50ee",
   "metadata": {},
   "source": [
    "## Airthmetic Operators\n",
    "- These are simple symbols that are used to perform mathematical operations.\n",
    "\n",
    "```python\n",
    "+\n",
    "-\n",
    "*\n",
    "/\n",
    "//\n",
    "%\n",
    "**\n",
    "```"
   ]
  },
  {
   "cell_type": "code",
   "execution_count": null,
   "id": "5a463aa4",
   "metadata": {},
   "outputs": [],
   "source": [
    "# Examples For each Operators"
   ]
  },
  {
   "cell_type": "markdown",
   "id": "7ec2e128",
   "metadata": {},
   "source": [
    "**Important Points**\n",
    "1. Division Operator `/` always return floating point.\n",
    "2. Floor Division Operator `//` Return both int and float point depending on args.\n",
    "3. You can use `+*` operator in string also."
   ]
  },
  {
   "cell_type": "code",
   "execution_count": null,
   "id": "b72d5b20",
   "metadata": {},
   "outputs": [],
   "source": [
    "# Examples For Each Point"
   ]
  }
 ],
 "metadata": {
  "kernelspec": {
   "display_name": "Python 3 (ipykernel)",
   "language": "python",
   "name": "python3"
  },
  "language_info": {
   "codemirror_mode": {
    "name": "ipython",
    "version": 3
   },
   "file_extension": ".py",
   "mimetype": "text/x-python",
   "name": "python",
   "nbconvert_exporter": "python",
   "pygments_lexer": "ipython3",
   "version": "3.9.6"
  }
 },
 "nbformat": 4,
 "nbformat_minor": 5
}
