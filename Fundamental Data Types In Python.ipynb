{
 "cells": [
  {
   "cell_type": "markdown",
   "id": "aee850ed",
   "metadata": {},
   "source": [
    "# Data Types\n",
    "- Data Type represent the type of data present inside a variable.\n",
    "- Python is dynamically typed."
   ]
  },
  {
   "cell_type": "markdown",
   "id": "acb6f037",
   "metadata": {},
   "source": [
    "<img src=\"https://i1.wp.com/artificialintelligencestechnology.com/wp-content/uploads/2020/10/memory-management.png?fit=500%2C500&ssl=1\">"
   ]
  },
  {
   "cell_type": "code",
   "execution_count": 1,
   "id": "3109fa74",
   "metadata": {},
   "outputs": [
    {
     "data": {
      "text/plain": [
       "int"
      ]
     },
     "execution_count": 1,
     "metadata": {},
     "output_type": "execute_result"
    }
   ],
   "source": [
    "# Examples\n",
    "var = 10\n",
    "type(var)"
   ]
  },
  {
   "cell_type": "code",
   "execution_count": null,
   "id": "0ada544e",
   "metadata": {},
   "outputs": [],
   "source": []
  },
  {
   "cell_type": "markdown",
   "id": "1b7a7682",
   "metadata": {},
   "source": [
    "# Built-In Data Types\n",
    "1. int\n",
    "2. float\n",
    "3. complex\n",
    "4. bool\n",
    "5. str\n",
    "6. bytes\n",
    "7. bytearray\n",
    "8. range\n",
    "9. list\n",
    "10. tuple\n",
    "11. set\n",
    "12. frozenset\n",
    "13. dict\n",
    "14. None"
   ]
  },
  {
   "cell_type": "markdown",
   "id": "bc3b9e0a",
   "metadata": {},
   "source": [
    "# <code> int</code> Data Type\n",
    "- It is used to represent the whole numbers.\n",
    "- In Python2 we have long data type to represent very large integral values.\n",
    "- But in Python3 there is no long type explicitly and we can represent long values also by using int type only."
   ]
  },
  {
   "cell_type": "code",
   "execution_count": 2,
   "id": "dbb72c32",
   "metadata": {},
   "outputs": [],
   "source": [
    "# Examples\n",
    "var = 100"
   ]
  },
  {
   "cell_type": "code",
   "execution_count": 3,
   "id": "13c4642f",
   "metadata": {},
   "outputs": [
    {
     "data": {
      "text/plain": [
       "100"
      ]
     },
     "execution_count": 3,
     "metadata": {},
     "output_type": "execute_result"
    }
   ],
   "source": [
    "var"
   ]
  },
  {
   "cell_type": "markdown",
   "id": "41473772",
   "metadata": {},
   "source": [
    "# Different Ways to represent <code>int</code> values in python\n",
    "1. Decimal form:\n",
    "            - default representation of python.\n",
    "            - 0-9.\n",
    "            \n",
    "2. Binary form\n",
    "            - 0 and 1.\n",
    "            - 0b or 0B\n",
    "            \n",
    "3. Octal form\n",
    "            - 0-7\n",
    "            - 0o or 0O\n",
    "            \n",
    "4. Hexa decimal form\n",
    "            - 0-9 and ABCDEF or abcdef\n",
    "            - 0x or 0X"
   ]
  },
  {
   "cell_type": "code",
   "execution_count": 4,
   "id": "e25c4390",
   "metadata": {},
   "outputs": [],
   "source": [
    "# Examples\n",
    "dec_var = 10 # decimal\n",
    "bin_var = 0b10 or 0B10 #binary\n",
    "oct_var = 0o7 or 0O7\n",
    "hex_var = 0x12 or 0XA"
   ]
  },
  {
   "cell_type": "code",
   "execution_count": 5,
   "id": "f5ea277d",
   "metadata": {},
   "outputs": [
    {
     "name": "stdout",
     "output_type": "stream",
     "text": [
      "<class 'int'> <class 'int'> <class 'int'> <class 'int'>\n"
     ]
    }
   ],
   "source": [
    "print(type(dec_var),type(bin_var),type(oct_var),type(hex_var))"
   ]
  },
  {
   "cell_type": "markdown",
   "id": "96665684",
   "metadata": {},
   "source": [
    "Note: Being a programmer we can specify literal values in decimal, binary, octal and hexa\n",
    "decimal forms. But PVM will always provide values only in decimal form."
   ]
  },
  {
   "cell_type": "code",
   "execution_count": 6,
   "id": "5ebd5914",
   "metadata": {},
   "outputs": [
    {
     "name": "stdout",
     "output_type": "stream",
     "text": [
      "10 8 16 2\n"
     ]
    }
   ],
   "source": [
    "a=10\n",
    "b=0o10\n",
    "c=0X10\n",
    "d=0B10\n",
    "print(a,b,c,d)"
   ]
  },
  {
   "cell_type": "markdown",
   "id": "1b58e833",
   "metadata": {},
   "source": [
    "# Base Conversion\n",
    "- Python has some in-built function for conversion\n",
    "1. bin() --> anybase to binary.\n",
    "2. oct() --> anybase to octal.\n",
    "3. hex() --> anybase to hexadecimal"
   ]
  },
  {
   "cell_type": "code",
   "execution_count": 7,
   "id": "d42f23bb",
   "metadata": {},
   "outputs": [
    {
     "data": {
      "text/plain": [
       "'0b1010'"
      ]
     },
     "execution_count": 7,
     "metadata": {},
     "output_type": "execute_result"
    }
   ],
   "source": [
    "#Example Decimal to binary\n",
    "a = 10\n",
    "bin(a)"
   ]
  },
  {
   "cell_type": "code",
   "execution_count": 8,
   "id": "6ae70090",
   "metadata": {},
   "outputs": [
    {
     "data": {
      "text/plain": [
       "'0b111'"
      ]
     },
     "execution_count": 8,
     "metadata": {},
     "output_type": "execute_result"
    }
   ],
   "source": [
    "#Example octal to binary\n",
    "o =  0o7\n",
    "bin(o)"
   ]
  },
  {
   "cell_type": "code",
   "execution_count": 10,
   "id": "b5a375cc",
   "metadata": {},
   "outputs": [
    {
     "name": "stdout",
     "output_type": "stream",
     "text": [
      "10\n"
     ]
    },
    {
     "data": {
      "text/plain": [
       "'0b1010'"
      ]
     },
     "execution_count": 10,
     "metadata": {},
     "output_type": "execute_result"
    }
   ],
   "source": [
    "#Example hex to binary\n",
    "hex =  0xA\n",
    "print(hex)\n",
    "bin(hex)"
   ]
  },
  {
   "cell_type": "code",
   "execution_count": 11,
   "id": "f9f0ce51",
   "metadata": {},
   "outputs": [
    {
     "name": "stdout",
     "output_type": "stream",
     "text": [
      "0o12\n",
      "0o2\n",
      "0o12\n"
     ]
    }
   ],
   "source": [
    "#Example anybase to octal\n",
    "dec = 10\n",
    "bin_ = 0b10\n",
    "hex_ = 0xA\n",
    "\n",
    "print(oct(dec))\n",
    "print(oct(bin_))\n",
    "print(oct(hex_))"
   ]
  },
  {
   "cell_type": "code",
   "execution_count": 16,
   "id": "7a8c0d13",
   "metadata": {},
   "outputs": [
    {
     "ename": "TypeError",
     "evalue": "'int' object is not callable",
     "output_type": "error",
     "traceback": [
      "\u001b[1;31m---------------------------------------------------------------------------\u001b[0m",
      "\u001b[1;31mTypeError\u001b[0m                                 Traceback (most recent call last)",
      "Input \u001b[1;32mIn [16]\u001b[0m, in \u001b[0;36m<module>\u001b[1;34m\u001b[0m\n\u001b[0;32m      3\u001b[0m oct_ \u001b[38;5;241m=\u001b[39m \u001b[38;5;241m0x7\u001b[39m\n\u001b[0;32m      4\u001b[0m dec \u001b[38;5;241m=\u001b[39m \u001b[38;5;241m10\u001b[39m\n\u001b[1;32m----> 6\u001b[0m \u001b[38;5;28mprint\u001b[39m(\u001b[38;5;28;43mhex\u001b[39;49m\u001b[43m(\u001b[49m\u001b[43mdec\u001b[49m\u001b[43m)\u001b[49m)\n\u001b[0;32m      7\u001b[0m \u001b[38;5;28mprint\u001b[39m(\u001b[38;5;28mhex\u001b[39m(bin_))\n\u001b[0;32m      8\u001b[0m \u001b[38;5;28mprint\u001b[39m(\u001b[38;5;28mhex\u001b[39m(oct_))\n",
      "\u001b[1;31mTypeError\u001b[0m: 'int' object is not callable"
     ]
    }
   ],
   "source": [
    "#Example anybase to hexa\n",
    "bin_ = 0b101\n",
    "oct_ = 0x7\n",
    "dec = 10\n",
    "\n",
    "print(hex(dec))\n",
    "print(hex(bin_))\n",
    "print(hex(oct_))"
   ]
  },
  {
   "cell_type": "code",
   "execution_count": null,
   "id": "1da9ebf9",
   "metadata": {},
   "outputs": [],
   "source": []
  },
  {
   "cell_type": "code",
   "execution_count": null,
   "id": "44defe81",
   "metadata": {},
   "outputs": [],
   "source": []
  },
  {
   "cell_type": "code",
   "execution_count": null,
   "id": "9c54b381",
   "metadata": {},
   "outputs": [],
   "source": []
  },
  {
   "cell_type": "markdown",
   "id": "a49189ed",
   "metadata": {},
   "source": [
    "# <code>float</code> Data Type\n",
    "- We can use float data type to represent floating point values.\n",
    "- We can also represent floating point values by using exponential form (scientific notation).\n",
    "- converson only decimal form."
   ]
  },
  {
   "cell_type": "code",
   "execution_count": 20,
   "id": "02edb0e7",
   "metadata": {},
   "outputs": [
    {
     "data": {
      "text/plain": [
       "10.5"
      ]
     },
     "execution_count": 20,
     "metadata": {},
     "output_type": "execute_result"
    }
   ],
   "source": [
    "# Examples\n",
    "a =  10.5\n",
    "a"
   ]
  },
  {
   "cell_type": "code",
   "execution_count": 18,
   "id": "2d4ce987",
   "metadata": {},
   "outputs": [
    {
     "data": {
      "text/plain": [
       "12000000000000.0"
      ]
     },
     "execution_count": 18,
     "metadata": {},
     "output_type": "execute_result"
    }
   ],
   "source": [
    "b = 1.2e13\n",
    "b"
   ]
  },
  {
   "cell_type": "code",
   "execution_count": 22,
   "id": "d2a18f11",
   "metadata": {},
   "outputs": [
    {
     "data": {
      "text/plain": [
       "float"
      ]
     },
     "execution_count": 22,
     "metadata": {},
     "output_type": "execute_result"
    }
   ],
   "source": [
    "type(a)"
   ]
  },
  {
   "cell_type": "code",
   "execution_count": null,
   "id": "62a65173",
   "metadata": {},
   "outputs": [],
   "source": []
  },
  {
   "cell_type": "code",
   "execution_count": null,
   "id": "0383fe2b",
   "metadata": {},
   "outputs": [],
   "source": []
  },
  {
   "cell_type": "code",
   "execution_count": null,
   "id": "d26a2640",
   "metadata": {},
   "outputs": [],
   "source": []
  },
  {
   "cell_type": "code",
   "execution_count": null,
   "id": "20226d67",
   "metadata": {},
   "outputs": [],
   "source": []
  },
  {
   "cell_type": "markdown",
   "id": "a73f11dc",
   "metadata": {},
   "source": [
    "# <code>complex</code> Data Type\n",
    "- used to represent both real and imaginary values.\n",
    "- if is of form a+bj where a is real part and b is imaginary part.\n",
    "- the value of j is -1 and value of j2 is root(-1).\n",
    "\n",
    "- In the real part if we use int value then we can specify that either by decimal,octal,binary or hexa decimal form.\n",
    "- But imaginary part should be specified only by using decimal form.\n",
    "- To reterive values we have real and imag method available for complex data type."
   ]
  },
  {
   "cell_type": "code",
   "execution_count": 25,
   "id": "18d00a4f",
   "metadata": {},
   "outputs": [
    {
     "name": "stdout",
     "output_type": "stream",
     "text": [
      "(10+5j)\n"
     ]
    },
    {
     "data": {
      "text/plain": [
       "complex"
      ]
     },
     "execution_count": 25,
     "metadata": {},
     "output_type": "execute_result"
    }
   ],
   "source": [
    "#Examples\n",
    "a = 10+5j\n",
    "print(a)\n",
    "type(a)"
   ]
  },
  {
   "cell_type": "code",
   "execution_count": 26,
   "id": "dce6c100",
   "metadata": {},
   "outputs": [
    {
     "data": {
      "text/plain": [
       "10.0"
      ]
     },
     "execution_count": 26,
     "metadata": {},
     "output_type": "execute_result"
    }
   ],
   "source": [
    "a.real"
   ]
  },
  {
   "cell_type": "code",
   "execution_count": 27,
   "id": "ffb96463",
   "metadata": {},
   "outputs": [
    {
     "data": {
      "text/plain": [
       "5.0"
      ]
     },
     "execution_count": 27,
     "metadata": {},
     "output_type": "execute_result"
    }
   ],
   "source": [
    "a.imag"
   ]
  },
  {
   "cell_type": "code",
   "execution_count": 29,
   "id": "8c33bfbc",
   "metadata": {},
   "outputs": [
    {
     "data": {
      "text/plain": [
       "complex"
      ]
     },
     "execution_count": 29,
     "metadata": {},
     "output_type": "execute_result"
    }
   ],
   "source": [
    "b = 0o7+4j\n",
    "type(b)"
   ]
  },
  {
   "cell_type": "markdown",
   "id": "2373d5bd",
   "metadata": {},
   "source": [
    "# <code>bool</code> Data Type\n",
    "- We can use this data type to represent boolean values.\n",
    "- The only allowed values for this data type are True and False.\n",
    "- Internally Python represents True as 1 and False as 0"
   ]
  },
  {
   "cell_type": "code",
   "execution_count": 31,
   "id": "efef1d91",
   "metadata": {},
   "outputs": [
    {
     "data": {
      "text/plain": [
       "str"
      ]
     },
     "execution_count": 31,
     "metadata": {},
     "output_type": "execute_result"
    }
   ],
   "source": [
    "# Examples\n",
    "a = True\n",
    "b = False\n",
    "type(a)"
   ]
  },
  {
   "cell_type": "code",
   "execution_count": null,
   "id": "21100b92",
   "metadata": {},
   "outputs": [],
   "source": []
  },
  {
   "cell_type": "markdown",
   "id": "f95d5784",
   "metadata": {},
   "source": [
    "# <code>str</code> Data Type.\n",
    "- It is used to represent the sequence of characters.\n",
    "- single line str with 'str here' and \"str here\".\n",
    "- For multi-line str use \"\"\"str here\"\"\""
   ]
  },
  {
   "cell_type": "code",
   "execution_count": 32,
   "id": "8bd77180",
   "metadata": {},
   "outputs": [],
   "source": [
    "# Examples.\n",
    "st = 'hello'\n",
    "st1 = \"hello\""
   ]
  },
  {
   "cell_type": "code",
   "execution_count": 33,
   "id": "e4acffcf",
   "metadata": {},
   "outputs": [
    {
     "data": {
      "text/plain": [
       "'hello'"
      ]
     },
     "execution_count": 33,
     "metadata": {},
     "output_type": "execute_result"
    }
   ],
   "source": [
    "st"
   ]
  },
  {
   "cell_type": "code",
   "execution_count": 34,
   "id": "e42f9d9a",
   "metadata": {},
   "outputs": [
    {
     "data": {
      "text/plain": [
       "'hello'"
      ]
     },
     "execution_count": 34,
     "metadata": {},
     "output_type": "execute_result"
    }
   ],
   "source": [
    "st1"
   ]
  },
  {
   "cell_type": "code",
   "execution_count": 35,
   "id": "ac4525d3",
   "metadata": {},
   "outputs": [],
   "source": [
    "st2 = \"Hello world \\\n",
    "this is multiline string\""
   ]
  },
  {
   "cell_type": "code",
   "execution_count": 37,
   "id": "6cbe81bd",
   "metadata": {},
   "outputs": [
    {
     "data": {
      "text/plain": [
       "'Hello world this is multiline string'"
      ]
     },
     "execution_count": 37,
     "metadata": {},
     "output_type": "execute_result"
    }
   ],
   "source": [
    "st2"
   ]
  },
  {
   "cell_type": "code",
   "execution_count": 38,
   "id": "988285be",
   "metadata": {},
   "outputs": [],
   "source": [
    "st3 = \"\"\"\n",
    "Kids Mode is a convenient browsing mode inside Microsoft Edge that’s designed for kids. With its kid-friendly features and safety guardrails in place, Kids Mode is a great place for children to safely explore the web. Kids Mode includes features like custom browser themes, kid-friendly content, browsing based on an allow list, Bing SafeSearch set to strict, and a password requirement to exit. Also, Kids Mode doesn't require a child account or profile.  \n",
    "\"\"\""
   ]
  },
  {
   "cell_type": "code",
   "execution_count": 39,
   "id": "e6270c66",
   "metadata": {},
   "outputs": [
    {
     "data": {
      "text/plain": [
       "\"\\nKids Mode is a convenient browsing mode inside Microsoft Edge that’s designed for kids. With its kid-friendly features and safety guardrails in place, Kids Mode is a great place for children to safely explore the web. Kids Mode includes features like custom browser themes, kid-friendly content, browsing based on an allow list, Bing SafeSearch set to strict, and a password requirement to exit. Also, Kids Mode doesn't require a child account or profile.  \\n\""
      ]
     },
     "execution_count": 39,
     "metadata": {},
     "output_type": "execute_result"
    }
   ],
   "source": [
    "st3"
   ]
  },
  {
   "cell_type": "code",
   "execution_count": null,
   "id": "4b47e50f",
   "metadata": {},
   "outputs": [],
   "source": []
  }
 ],
 "metadata": {
  "kernelspec": {
   "display_name": "Python 3 (ipykernel)",
   "language": "python",
   "name": "python3"
  },
  "language_info": {
   "codemirror_mode": {
    "name": "ipython",
    "version": 3
   },
   "file_extension": ".py",
   "mimetype": "text/x-python",
   "name": "python",
   "nbconvert_exporter": "python",
   "pygments_lexer": "ipython3",
   "version": "3.9.6"
  }
 },
 "nbformat": 4,
 "nbformat_minor": 5
}
