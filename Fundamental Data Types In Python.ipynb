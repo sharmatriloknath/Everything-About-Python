{
 "cells": [
  {
   "cell_type": "markdown",
   "id": "aee850ed",
   "metadata": {},
   "source": [
    "# Data Types\n",
    "- Data Type represent the type of data present inside a variable.\n",
    "- Python is dynamically typed."
   ]
  },
  {
   "cell_type": "markdown",
   "id": "acb6f037",
   "metadata": {},
   "source": [
    "<img src=\"https://i1.wp.com/artificialintelligencestechnology.com/wp-content/uploads/2020/10/memory-management.png?fit=500%2C500&ssl=1\">"
   ]
  },
  {
   "cell_type": "code",
   "execution_count": null,
   "id": "3109fa74",
   "metadata": {},
   "outputs": [],
   "source": [
    "# Examples"
   ]
  },
  {
   "cell_type": "code",
   "execution_count": null,
   "id": "0ada544e",
   "metadata": {},
   "outputs": [],
   "source": []
  },
  {
   "cell_type": "markdown",
   "id": "1b7a7682",
   "metadata": {},
   "source": [
    "# Built-In Data Types\n",
    "1. int\n",
    "2. float\n",
    "3. complex\n",
    "4. bool\n",
    "5. str\n",
    "6. bytes\n",
    "7. bytearray\n",
    "8. range\n",
    "9. list\n",
    "10. tuple\n",
    "11. set\n",
    "12. frozenset\n",
    "13. dict\n",
    "14. None"
   ]
  },
  {
   "cell_type": "markdown",
   "id": "bc3b9e0a",
   "metadata": {},
   "source": [
    "# <code> int</code> Data Type\n",
    "- It is used to represent the whole numbers.\n",
    "- In Python2 we have long data type to represent very large integral values.\n",
    "- But in Python3 there is no long type explicitly and we can represent long values also by using int type only."
   ]
  },
  {
   "cell_type": "code",
   "execution_count": null,
   "id": "dbb72c32",
   "metadata": {},
   "outputs": [],
   "source": [
    "# Examples"
   ]
  },
  {
   "cell_type": "code",
   "execution_count": null,
   "id": "13c4642f",
   "metadata": {},
   "outputs": [],
   "source": []
  },
  {
   "cell_type": "markdown",
   "id": "41473772",
   "metadata": {},
   "source": [
    "# Different Ways to represent <code>int</code> values in python\n",
    "1. Decimal form:\n",
    "            - default representation of python.\n",
    "            - 0-9.\n",
    "            \n",
    "2. Binary form\n",
    "            - 0 and 1.\n",
    "            - 0b or 0B\n",
    "            \n",
    "3. Octal form\n",
    "            - 0-7\n",
    "            - 0o or 0O\n",
    "            \n",
    "4. Hexa decimal form\n",
    "            - 0-9 and ABCDEF or abcdef\n",
    "            - 0x or 0X"
   ]
  },
  {
   "cell_type": "code",
   "execution_count": null,
   "id": "e25c4390",
   "metadata": {},
   "outputs": [],
   "source": [
    "# Examples"
   ]
  },
  {
   "cell_type": "code",
   "execution_count": null,
   "id": "f5ea277d",
   "metadata": {},
   "outputs": [],
   "source": []
  },
  {
   "cell_type": "markdown",
   "id": "96665684",
   "metadata": {},
   "source": [
    "Note: Being a programmer we can specify literal values in decimal, binary, octal and hexa\n",
    "decimal forms. But PVM will always provide values only in decimal form."
   ]
  },
  {
   "cell_type": "code",
   "execution_count": null,
   "id": "5ebd5914",
   "metadata": {},
   "outputs": [],
   "source": [
    "a=10\n",
    "b=0o10\n",
    "c=0X10\n",
    "d=0B10\n",
    "print(a,b,c,d)"
   ]
  },
  {
   "cell_type": "markdown",
   "id": "1b58e833",
   "metadata": {},
   "source": [
    "# Base Conversion\n",
    "- Python has some in-built function for conversion\n",
    "1. bin() --> anybase to binary.\n",
    "2. oct() --> anybase to octal.\n",
    "3. hex() --> anybase to hexadecimal"
   ]
  },
  {
   "cell_type": "code",
   "execution_count": null,
   "id": "d42f23bb",
   "metadata": {},
   "outputs": [],
   "source": [
    "#Examples"
   ]
  },
  {
   "cell_type": "code",
   "execution_count": null,
   "id": "9c54b381",
   "metadata": {},
   "outputs": [],
   "source": []
  },
  {
   "cell_type": "markdown",
   "id": "a49189ed",
   "metadata": {},
   "source": [
    "# <code>float</code> Data Type\n",
    "- We can use float data type to represent floating point values.\n",
    "- We can also represent floating point values by using exponential form (scientific notation).\n",
    "- converson only decimal form."
   ]
  },
  {
   "cell_type": "code",
   "execution_count": null,
   "id": "02edb0e7",
   "metadata": {},
   "outputs": [],
   "source": [
    "# Examples"
   ]
  },
  {
   "cell_type": "code",
   "execution_count": null,
   "id": "2d4ce987",
   "metadata": {},
   "outputs": [],
   "source": []
  },
  {
   "cell_type": "markdown",
   "id": "a73f11dc",
   "metadata": {},
   "source": [
    "# <code>complex</code> Data Type\n",
    "- used to represent both real and imaginary values.\n",
    "- if is of form a+bj where a is real part and b is imaginary part.\n",
    "- the value of j is -1 and value of j2 is root(-1).\n",
    "\n",
    "- In the real part if we use int value then we can specify that either by decimal,octal,binary or hexa decimal form.\n",
    "- But imaginary part should be specified only by using decimal form.\n",
    "- To reterive values we have real and imag method available for complex data type."
   ]
  },
  {
   "cell_type": "code",
   "execution_count": null,
   "id": "18d00a4f",
   "metadata": {},
   "outputs": [],
   "source": [
    "#Examples"
   ]
  },
  {
   "cell_type": "markdown",
   "id": "2373d5bd",
   "metadata": {},
   "source": [
    "# <code>bool</code> Data Type\n",
    "- We can use this data type to represent boolean values.\n",
    "- The only allowed values for this data type are True and False.\n",
    "- Internally Python represents True as 1 and False as 0"
   ]
  },
  {
   "cell_type": "code",
   "execution_count": null,
   "id": "efef1d91",
   "metadata": {},
   "outputs": [],
   "source": [
    "# Examples"
   ]
  },
  {
   "cell_type": "code",
   "execution_count": null,
   "id": "21100b92",
   "metadata": {},
   "outputs": [],
   "source": []
  },
  {
   "cell_type": "markdown",
   "id": "f95d5784",
   "metadata": {},
   "source": [
    "# <code>str</code> Data Type.\n",
    "- It is used to represent the sequence of characters.\n",
    "- single line str with 'str here' and \"str here\".\n",
    "- For multi-line str use \"\"\"str here\"\"\""
   ]
  },
  {
   "cell_type": "code",
   "execution_count": null,
   "id": "8bd77180",
   "metadata": {},
   "outputs": [],
   "source": [
    "# Examples."
   ]
  },
  {
   "cell_type": "code",
   "execution_count": null,
   "id": "e4acffcf",
   "metadata": {},
   "outputs": [],
   "source": []
  }
 ],
 "metadata": {
  "kernelspec": {
   "display_name": "Python 3 (ipykernel)",
   "language": "python",
   "name": "python3"
  },
  "language_info": {
   "codemirror_mode": {
    "name": "ipython",
    "version": 3
   },
   "file_extension": ".py",
   "mimetype": "text/x-python",
   "name": "python",
   "nbconvert_exporter": "python",
   "pygments_lexer": "ipython3",
   "version": "3.10.5"
  }
 },
 "nbformat": 4,
 "nbformat_minor": 5
}
