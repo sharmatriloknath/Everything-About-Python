{
 "cells": [
  {
   "cell_type": "markdown",
   "id": "684301fa",
   "metadata": {},
   "source": [
    "# Introduction\n",
    "- Python is a general purpose high level programming language.\n",
    "- Python was developed by Guido Van Rossam in 1989 while working at National Research Institute at Netherlands.\n",
    "- The official Date of Birth for Python is : Feb 20th 1991."
   ]
  },
  {
   "cell_type": "markdown",
   "id": "21f9ae15",
   "metadata": {},
   "source": [
    "### Simple\n",
    "- it is very simple language compared to others languages.\n",
    "- For example <code>HelloWorld</code>\n",
    "\n",
    "**C**\n",
    "```c\n",
    "# include<studio.h>\n",
    "void main(){\n",
    "printf(\"HelloWorld\");\n",
    "}\n",
    "```\n",
    "\n",
    "**Java**\n",
    "```java\n",
    "public class Greetings{\n",
    "\n",
    "public static void main(String args[]){\n",
    "system.out.println(\"HelloWorld\")\n",
    "}\n",
    "}\n",
    "```"
   ]
  },
  {
   "cell_type": "code",
   "execution_count": 1,
   "id": "fcb408a2",
   "metadata": {},
   "outputs": [],
   "source": [
    "#But in python."
   ]
  },
  {
   "cell_type": "markdown",
   "id": "b3964361",
   "metadata": {},
   "source": [
    "### Why and where from this python name come?\n",
    "- From a TV show called **The Complete Monty Python's Circus**.\n",
    "- Broadcast on BBC between 1969 to 1964."
   ]
  },
  {
   "cell_type": "markdown",
   "id": "8fb0171a",
   "metadata": {},
   "source": [
    "### Python Developed with the help of multiple programming languages\n",
    "1. Functional Programming --> C\n",
    "2. Object Oriented Programming --> C++\n",
    "3. Scripting Language Features ---> Perl and Shell Script.\n",
    "4. Modular programming ---> Modula3\n",
    "\n",
    "Most of the syntax in python are from C and ABC[Languages]."
   ]
  },
  {
   "cell_type": "markdown",
   "id": "9ef76f03",
   "metadata": {},
   "source": [
    "## You can use python almost everywhere\n",
    "1. For developing Desktop Applications\n",
    "2. For developing web Applications\n",
    "3. For developing database Applications\n",
    "4. For Network Programming\n",
    "5. For developing games\n",
    "6. For Data Analysis Applications\n",
    "7. For Machine Learning\n",
    "8. For developing Artificial Intelligence Applications\n",
    "9. For IOT\n",
    "10. Research etc."
   ]
  },
  {
   "cell_type": "code",
   "execution_count": 4,
   "id": "20679018",
   "metadata": {},
   "outputs": [],
   "source": [
    "# Ended"
   ]
  },
  {
   "cell_type": "markdown",
   "id": "14bf494c",
   "metadata": {},
   "source": [
    "# Features of Python\n",
    "1. Open Source.\n",
    "2. simple\n",
    "4. High level Language.\n",
    "5. Dynamically Typed.\n",
    "6. Portable.\n",
    "7. Platform Independent.\n",
    "8. Huge Library Support.\n",
    "9. Interpreted.\n",
    "10. Community Support."
   ]
  },
  {
   "cell_type": "markdown",
   "id": "4cbdbc24",
   "metadata": {},
   "source": [
    "# Flavours Of Python\n",
    "1. CPython:\n",
    "It is the standard flavor of Python. It can be used to work with C lanugage Applications\n",
    "\n",
    "2. Jython or JPython:\n",
    "It is for Java Applications. It can run on JVM\n",
    "\n",
    "3. IronPython:\n",
    "It is for C#.Net platform\n",
    "\n",
    "4. PyPy:\n",
    "The main advantage of PyPy is performance will be improved because JIT compiler is\n",
    "available inside PVM.\n",
    "\n",
    "5. RubyPython\n",
    "For Ruby Platforms\n",
    "\n",
    "6. AnacondaPython\n",
    "It is specially designed for handling large volume of data processing."
   ]
  },
  {
   "cell_type": "code",
   "execution_count": 5,
   "id": "e134ba0b",
   "metadata": {},
   "outputs": [],
   "source": [
    "# Ended"
   ]
  },
  {
   "cell_type": "markdown",
   "id": "1cc76d49",
   "metadata": {},
   "source": [
    "\n",
    "\n",
    "\n",
    "\n",
    "\n",
    "\n",
    "\n",
    "\n",
    "\n",
    "\n",
    "\n",
    "\n",
    "\n",
    "\n",
    "\n",
    "\n",
    "\n",
    "\n",
    "\n",
    "\n",
    "\n",
    "\n",
    "\n",
    "\n",
    "\n",
    "\n",
    "\n",
    "\n",
    "\n",
    "\n",
    "\n",
    "\n",
    "\n",
    "\n",
    "\n",
    "\n",
    "\n",
    "\n",
    "\n",
    "\n",
    "\n"
   ]
  },
  {
   "cell_type": "markdown",
   "id": "fb3cd8f0",
   "metadata": {},
   "source": [
    "# Indentifiers In Python\n",
    "- Names that we use in Python program is called identifier.\n",
    "- class name,funtion name, module name, variable name.\n",
    "\n",
    "## Rules\n",
    "1. Alphabet Symbols (Either Upper case OR Lower case)\n",
    "2. If Identifier is start with Underscore (_) then it indicates it is private.\n",
    "3. Identifier should not start with Digits.\n",
    "4. Identifiers are case sensitive.\n",
    "5. We cannot use reserved words as identifiers\n",
    "6. There is no length limit for Python identifiers. But not recommended to use too lengthy identifiers.\n",
    "7. Dollar ($) Symbol is not allowed in Python."
   ]
  },
  {
   "cell_type": "code",
   "execution_count": 6,
   "id": "40174047",
   "metadata": {},
   "outputs": [],
   "source": [
    "# Examples"
   ]
  },
  {
   "cell_type": "markdown",
   "id": "5215d3ce",
   "metadata": {},
   "source": [
    "## Important Points\n",
    "1. If name starts with <code>_single</code> underscore then the identifier will considerd as private.\n",
    "2. if <code>__double</code> underscore then strongly private.\n",
    "3. If <code>__bothsidedoubleunderscore__</code> then it is known as magic or dunder method.\n",
    "\n",
    "We will see all these concepts In OOPS."
   ]
  },
  {
   "cell_type": "code",
   "execution_count": 7,
   "id": "429ce2cc",
   "metadata": {},
   "outputs": [],
   "source": [
    "##Ended"
   ]
  },
  {
   "cell_type": "markdown",
   "id": "fb3da5ed",
   "metadata": {},
   "source": [
    "\n",
    "\n",
    "\n",
    "\n",
    "\n",
    "\n",
    "\n",
    "\n",
    "\n",
    "\n",
    "\n",
    "\n",
    "\n",
    "\n",
    "\n",
    "\n",
    "\n",
    "\n",
    "\n",
    "\n",
    "\n",
    "\n",
    "\n",
    "\n",
    "\n",
    "\n",
    "\n",
    "\n",
    "\n",
    "\n",
    "\n",
    "\n",
    "\n",
    "\n",
    "\n"
   ]
  },
  {
   "cell_type": "markdown",
   "id": "018fcfd6",
   "metadata": {},
   "source": [
    "# Keywords in Python\n",
    "- special words that we have in python.\n",
    "- Each reserved word has its own importance and functionality.\n",
    "- All reserved words contains alphabets.\n",
    "- we have total 33 keywords in python."
   ]
  },
  {
   "cell_type": "code",
   "execution_count": 14,
   "id": "ad42451f",
   "metadata": {},
   "outputs": [],
   "source": [
    "# import keyword\n",
    "# keyword.kwlist"
   ]
  },
  {
   "cell_type": "markdown",
   "id": "205e81a4",
   "metadata": {},
   "source": [
    "\n",
    "\n",
    "\n",
    "\n",
    "\n",
    "\n",
    "\n",
    "\n",
    "\n",
    "\n",
    "\n",
    "\n",
    "\n",
    "\n",
    "\n",
    "\n",
    "\n",
    "\n",
    "\n",
    "\n",
    "\n",
    "\n",
    "\n",
    "\n",
    "\n",
    "\n",
    "\n",
    "\n"
   ]
  },
  {
   "cell_type": "markdown",
   "id": "6849bde4",
   "metadata": {},
   "source": [
    "\n",
    "\n",
    "\n",
    "\n",
    "\n",
    "\n",
    "\n",
    "\n",
    "\n",
    "\n",
    "\n",
    "\n",
    "\n",
    "\n",
    "\n",
    "\n",
    "\n",
    "\n",
    "\n",
    "\n",
    "\n",
    "\n",
    "\n",
    "\n",
    "\n",
    "\n",
    "\n",
    "\n",
    "\n",
    "\n",
    "\n",
    "\n"
   ]
  },
  {
   "cell_type": "markdown",
   "id": "20495286",
   "metadata": {},
   "source": [
    "# Variables\n",
    "- It is container that store the value.\n",
    "- You can call it memory object also.\n",
    "<img src=\"https://i1.wp.com/artificialintelligencestechnology.com/wp-content/uploads/2020/10/memory-management.png?fit=500%2C500&ssl=1\">"
   ]
  },
  {
   "cell_type": "code",
   "execution_count": 12,
   "id": "c757a84f",
   "metadata": {},
   "outputs": [],
   "source": [
    "# Examples"
   ]
  },
  {
   "cell_type": "markdown",
   "id": "99235585",
   "metadata": {},
   "source": [
    "\n",
    "\n",
    "\n",
    "\n",
    "\n",
    "\n",
    "\n",
    "\n",
    "\n",
    "\n",
    "\n",
    "\n",
    "\n",
    "\n",
    "\n",
    "\n",
    "\n",
    "\n",
    "\n",
    "\n",
    "\n",
    "\n",
    "\n",
    "\n",
    "\n",
    "\n",
    "\n"
   ]
  },
  {
   "cell_type": "markdown",
   "id": "9e263d71",
   "metadata": {},
   "source": [
    "# Constants\n",
    "- Constants concept is not applicable in Python.\n",
    "- But it is convention to use only uppercase characters if we don’t want to change value.\n",
    "- It is just convention but we can change the value."
   ]
  },
  {
   "cell_type": "code",
   "execution_count": 13,
   "id": "0e6e6fa8",
   "metadata": {},
   "outputs": [],
   "source": [
    "# Examples"
   ]
  },
  {
   "cell_type": "code",
   "execution_count": null,
   "id": "e2ff8fcf",
   "metadata": {},
   "outputs": [],
   "source": []
  }
 ],
 "metadata": {
  "kernelspec": {
   "display_name": "Python 3 (ipykernel)",
   "language": "python",
   "name": "python3"
  },
  "language_info": {
   "codemirror_mode": {
    "name": "ipython",
    "version": 3
   },
   "file_extension": ".py",
   "mimetype": "text/x-python",
   "name": "python",
   "nbconvert_exporter": "python",
   "pygments_lexer": "ipython3",
   "version": "3.10.5"
  }
 },
 "nbformat": 4,
 "nbformat_minor": 5
}
